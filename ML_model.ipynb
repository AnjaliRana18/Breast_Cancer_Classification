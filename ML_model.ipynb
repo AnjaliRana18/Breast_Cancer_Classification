{
  "nbformat": 4,
  "nbformat_minor": 0,
  "metadata": {
    "colab": {
      "name": "ML model",
      "provenance": [],
      "collapsed_sections": [],
      "authorship_tag": "ABX9TyOlohDdeRFA/eYLfV5P7oMG",
      "include_colab_link": true
    },
    "kernelspec": {
      "name": "python3",
      "display_name": "Python 3"
    },
    "language_info": {
      "name": "python"
    }
  },
  "cells": [
    {
      "cell_type": "markdown",
      "metadata": {
        "id": "view-in-github",
        "colab_type": "text"
      },
      "source": [
        "<a href=\"https://colab.research.google.com/github/AnjaliRana18/Breast_Cancer_Classification/blob/main/ML_model.ipynb\" target=\"_parent\"><img src=\"https://colab.research.google.com/assets/colab-badge.svg\" alt=\"Open In Colab\"/></a>"
      ]
    },
    {
      "cell_type": "code",
      "source": [
        "import numpy as np\n",
        "import pandas as pd\n",
        "import matplotlib.pyplot as plt\n",
        "import seaborn as sns"
      ],
      "metadata": {
        "id": "Mn1WlOC5JjOI"
      },
      "execution_count": null,
      "outputs": []
    },
    {
      "cell_type": "code",
      "execution_count": null,
      "metadata": {
        "colab": {
          "resources": {
            "http://localhost:8080/nbextensions/google.colab/files.js": {
              "data": "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",
              "ok": true,
              "headers": [
                [
                  "content-type",
                  "application/javascript"
                ]
              ],
              "status": 200,
              "status_text": ""
            }
          },
          "base_uri": "https://localhost:8080/",
          "height": 74
        },
        "id": "Ragb47-VJZRb",
        "outputId": "8a8e1398-c82e-4052-9d1f-ffe9682ff3c6"
      },
      "outputs": [
        {
          "output_type": "display_data",
          "data": {
            "text/plain": [
              "<IPython.core.display.HTML object>"
            ],
            "text/html": [
              "\n",
              "     <input type=\"file\" id=\"files-9a821ad9-fabe-4cd6-8fd1-c8a144b98987\" name=\"files[]\" multiple disabled\n",
              "        style=\"border:none\" />\n",
              "     <output id=\"result-9a821ad9-fabe-4cd6-8fd1-c8a144b98987\">\n",
              "      Upload widget is only available when the cell has been executed in the\n",
              "      current browser session. Please rerun this cell to enable.\n",
              "      </output>\n",
              "      <script src=\"/nbextensions/google.colab/files.js\"></script> "
            ]
          },
          "metadata": {}
        },
        {
          "output_type": "stream",
          "name": "stdout",
          "text": [
            "Saving cleandata.csv to cleandata.csv\n"
          ]
        }
      ],
      "source": [
        "#loading the data\n",
        "from google.colab import files\n",
        "upload = files.upload()"
      ]
    },
    {
      "cell_type": "code",
      "source": [
        "df = pd.read_csv('cleandata.csv')\n",
        "df"
      ],
      "metadata": {
        "colab": {
          "base_uri": "https://localhost:8080/",
          "height": 488
        },
        "id": "u79CrcZUJxiX",
        "outputId": "d3e6d7ad-c4d0-42f2-c346-2d61471a87eb"
      },
      "execution_count": null,
      "outputs": [
        {
          "output_type": "execute_result",
          "data": {
            "text/plain": [
              "     clump_thickness  size_uniformity  shape_uniformity  marginal_adhesion  \\\n",
              "0                  5                1                 1                  1   \n",
              "1                  5                4                 4                  5   \n",
              "2                  3                1                 1                  1   \n",
              "3                  6                8                 8                  1   \n",
              "4                  4                1                 1                  3   \n",
              "..               ...              ...               ...                ...   \n",
              "444                3                1                 1                  1   \n",
              "445                3                1                 1                  1   \n",
              "446                5               10                10                  3   \n",
              "447                4                8                 6                  4   \n",
              "448                4                8                 8                  5   \n",
              "\n",
              "     epithelial_size  bare_nucleoli  bland_chromatin  normal_nucleoli  \\\n",
              "0                  2              1                3                1   \n",
              "1                  7             10                3                2   \n",
              "2                  2              2                3                1   \n",
              "3                  3              4                3                7   \n",
              "4                  2              1                3                1   \n",
              "..               ...            ...              ...              ...   \n",
              "444                2              1                2                1   \n",
              "445                3              2                1                1   \n",
              "446                7              3                8               10   \n",
              "447                3              4               10                6   \n",
              "448                4              5               10                4   \n",
              "\n",
              "     mitoses  class  \n",
              "0          1      0  \n",
              "1          1      0  \n",
              "2          1      0  \n",
              "3          1      0  \n",
              "4          1      0  \n",
              "..       ...    ...  \n",
              "444        2      0  \n",
              "445        1      0  \n",
              "446        2      1  \n",
              "447        1      1  \n",
              "448        1      1  \n",
              "\n",
              "[449 rows x 10 columns]"
            ],
            "text/html": [
              "\n",
              "  <div id=\"df-e4463a1e-45e2-4795-91e9-5674de1c56ed\">\n",
              "    <div class=\"colab-df-container\">\n",
              "      <div>\n",
              "<style scoped>\n",
              "    .dataframe tbody tr th:only-of-type {\n",
              "        vertical-align: middle;\n",
              "    }\n",
              "\n",
              "    .dataframe tbody tr th {\n",
              "        vertical-align: top;\n",
              "    }\n",
              "\n",
              "    .dataframe thead th {\n",
              "        text-align: right;\n",
              "    }\n",
              "</style>\n",
              "<table border=\"1\" class=\"dataframe\">\n",
              "  <thead>\n",
              "    <tr style=\"text-align: right;\">\n",
              "      <th></th>\n",
              "      <th>clump_thickness</th>\n",
              "      <th>size_uniformity</th>\n",
              "      <th>shape_uniformity</th>\n",
              "      <th>marginal_adhesion</th>\n",
              "      <th>epithelial_size</th>\n",
              "      <th>bare_nucleoli</th>\n",
              "      <th>bland_chromatin</th>\n",
              "      <th>normal_nucleoli</th>\n",
              "      <th>mitoses</th>\n",
              "      <th>class</th>\n",
              "    </tr>\n",
              "  </thead>\n",
              "  <tbody>\n",
              "    <tr>\n",
              "      <th>0</th>\n",
              "      <td>5</td>\n",
              "      <td>1</td>\n",
              "      <td>1</td>\n",
              "      <td>1</td>\n",
              "      <td>2</td>\n",
              "      <td>1</td>\n",
              "      <td>3</td>\n",
              "      <td>1</td>\n",
              "      <td>1</td>\n",
              "      <td>0</td>\n",
              "    </tr>\n",
              "    <tr>\n",
              "      <th>1</th>\n",
              "      <td>5</td>\n",
              "      <td>4</td>\n",
              "      <td>4</td>\n",
              "      <td>5</td>\n",
              "      <td>7</td>\n",
              "      <td>10</td>\n",
              "      <td>3</td>\n",
              "      <td>2</td>\n",
              "      <td>1</td>\n",
              "      <td>0</td>\n",
              "    </tr>\n",
              "    <tr>\n",
              "      <th>2</th>\n",
              "      <td>3</td>\n",
              "      <td>1</td>\n",
              "      <td>1</td>\n",
              "      <td>1</td>\n",
              "      <td>2</td>\n",
              "      <td>2</td>\n",
              "      <td>3</td>\n",
              "      <td>1</td>\n",
              "      <td>1</td>\n",
              "      <td>0</td>\n",
              "    </tr>\n",
              "    <tr>\n",
              "      <th>3</th>\n",
              "      <td>6</td>\n",
              "      <td>8</td>\n",
              "      <td>8</td>\n",
              "      <td>1</td>\n",
              "      <td>3</td>\n",
              "      <td>4</td>\n",
              "      <td>3</td>\n",
              "      <td>7</td>\n",
              "      <td>1</td>\n",
              "      <td>0</td>\n",
              "    </tr>\n",
              "    <tr>\n",
              "      <th>4</th>\n",
              "      <td>4</td>\n",
              "      <td>1</td>\n",
              "      <td>1</td>\n",
              "      <td>3</td>\n",
              "      <td>2</td>\n",
              "      <td>1</td>\n",
              "      <td>3</td>\n",
              "      <td>1</td>\n",
              "      <td>1</td>\n",
              "      <td>0</td>\n",
              "    </tr>\n",
              "    <tr>\n",
              "      <th>...</th>\n",
              "      <td>...</td>\n",
              "      <td>...</td>\n",
              "      <td>...</td>\n",
              "      <td>...</td>\n",
              "      <td>...</td>\n",
              "      <td>...</td>\n",
              "      <td>...</td>\n",
              "      <td>...</td>\n",
              "      <td>...</td>\n",
              "      <td>...</td>\n",
              "    </tr>\n",
              "    <tr>\n",
              "      <th>444</th>\n",
              "      <td>3</td>\n",
              "      <td>1</td>\n",
              "      <td>1</td>\n",
              "      <td>1</td>\n",
              "      <td>2</td>\n",
              "      <td>1</td>\n",
              "      <td>2</td>\n",
              "      <td>1</td>\n",
              "      <td>2</td>\n",
              "      <td>0</td>\n",
              "    </tr>\n",
              "    <tr>\n",
              "      <th>445</th>\n",
              "      <td>3</td>\n",
              "      <td>1</td>\n",
              "      <td>1</td>\n",
              "      <td>1</td>\n",
              "      <td>3</td>\n",
              "      <td>2</td>\n",
              "      <td>1</td>\n",
              "      <td>1</td>\n",
              "      <td>1</td>\n",
              "      <td>0</td>\n",
              "    </tr>\n",
              "    <tr>\n",
              "      <th>446</th>\n",
              "      <td>5</td>\n",
              "      <td>10</td>\n",
              "      <td>10</td>\n",
              "      <td>3</td>\n",
              "      <td>7</td>\n",
              "      <td>3</td>\n",
              "      <td>8</td>\n",
              "      <td>10</td>\n",
              "      <td>2</td>\n",
              "      <td>1</td>\n",
              "    </tr>\n",
              "    <tr>\n",
              "      <th>447</th>\n",
              "      <td>4</td>\n",
              "      <td>8</td>\n",
              "      <td>6</td>\n",
              "      <td>4</td>\n",
              "      <td>3</td>\n",
              "      <td>4</td>\n",
              "      <td>10</td>\n",
              "      <td>6</td>\n",
              "      <td>1</td>\n",
              "      <td>1</td>\n",
              "    </tr>\n",
              "    <tr>\n",
              "      <th>448</th>\n",
              "      <td>4</td>\n",
              "      <td>8</td>\n",
              "      <td>8</td>\n",
              "      <td>5</td>\n",
              "      <td>4</td>\n",
              "      <td>5</td>\n",
              "      <td>10</td>\n",
              "      <td>4</td>\n",
              "      <td>1</td>\n",
              "      <td>1</td>\n",
              "    </tr>\n",
              "  </tbody>\n",
              "</table>\n",
              "<p>449 rows × 10 columns</p>\n",
              "</div>\n",
              "      <button class=\"colab-df-convert\" onclick=\"convertToInteractive('df-e4463a1e-45e2-4795-91e9-5674de1c56ed')\"\n",
              "              title=\"Convert this dataframe to an interactive table.\"\n",
              "              style=\"display:none;\">\n",
              "        \n",
              "  <svg xmlns=\"http://www.w3.org/2000/svg\" height=\"24px\"viewBox=\"0 0 24 24\"\n",
              "       width=\"24px\">\n",
              "    <path d=\"M0 0h24v24H0V0z\" fill=\"none\"/>\n",
              "    <path d=\"M18.56 5.44l.94 2.06.94-2.06 2.06-.94-2.06-.94-.94-2.06-.94 2.06-2.06.94zm-11 1L8.5 8.5l.94-2.06 2.06-.94-2.06-.94L8.5 2.5l-.94 2.06-2.06.94zm10 10l.94 2.06.94-2.06 2.06-.94-2.06-.94-.94-2.06-.94 2.06-2.06.94z\"/><path d=\"M17.41 7.96l-1.37-1.37c-.4-.4-.92-.59-1.43-.59-.52 0-1.04.2-1.43.59L10.3 9.45l-7.72 7.72c-.78.78-.78 2.05 0 2.83L4 21.41c.39.39.9.59 1.41.59.51 0 1.02-.2 1.41-.59l7.78-7.78 2.81-2.81c.8-.78.8-2.07 0-2.86zM5.41 20L4 18.59l7.72-7.72 1.47 1.35L5.41 20z\"/>\n",
              "  </svg>\n",
              "      </button>\n",
              "      \n",
              "  <style>\n",
              "    .colab-df-container {\n",
              "      display:flex;\n",
              "      flex-wrap:wrap;\n",
              "      gap: 12px;\n",
              "    }\n",
              "\n",
              "    .colab-df-convert {\n",
              "      background-color: #E8F0FE;\n",
              "      border: none;\n",
              "      border-radius: 50%;\n",
              "      cursor: pointer;\n",
              "      display: none;\n",
              "      fill: #1967D2;\n",
              "      height: 32px;\n",
              "      padding: 0 0 0 0;\n",
              "      width: 32px;\n",
              "    }\n",
              "\n",
              "    .colab-df-convert:hover {\n",
              "      background-color: #E2EBFA;\n",
              "      box-shadow: 0px 1px 2px rgba(60, 64, 67, 0.3), 0px 1px 3px 1px rgba(60, 64, 67, 0.15);\n",
              "      fill: #174EA6;\n",
              "    }\n",
              "\n",
              "    [theme=dark] .colab-df-convert {\n",
              "      background-color: #3B4455;\n",
              "      fill: #D2E3FC;\n",
              "    }\n",
              "\n",
              "    [theme=dark] .colab-df-convert:hover {\n",
              "      background-color: #434B5C;\n",
              "      box-shadow: 0px 1px 3px 1px rgba(0, 0, 0, 0.15);\n",
              "      filter: drop-shadow(0px 1px 2px rgba(0, 0, 0, 0.3));\n",
              "      fill: #FFFFFF;\n",
              "    }\n",
              "  </style>\n",
              "\n",
              "      <script>\n",
              "        const buttonEl =\n",
              "          document.querySelector('#df-e4463a1e-45e2-4795-91e9-5674de1c56ed button.colab-df-convert');\n",
              "        buttonEl.style.display =\n",
              "          google.colab.kernel.accessAllowed ? 'block' : 'none';\n",
              "\n",
              "        async function convertToInteractive(key) {\n",
              "          const element = document.querySelector('#df-e4463a1e-45e2-4795-91e9-5674de1c56ed');\n",
              "          const dataTable =\n",
              "            await google.colab.kernel.invokeFunction('convertToInteractive',\n",
              "                                                     [key], {});\n",
              "          if (!dataTable) return;\n",
              "\n",
              "          const docLinkHtml = 'Like what you see? Visit the ' +\n",
              "            '<a target=\"_blank\" href=https://colab.research.google.com/notebooks/data_table.ipynb>data table notebook</a>'\n",
              "            + ' to learn more about interactive tables.';\n",
              "          element.innerHTML = '';\n",
              "          dataTable['output_type'] = 'display_data';\n",
              "          await google.colab.output.renderOutput(dataTable, element);\n",
              "          const docLink = document.createElement('div');\n",
              "          docLink.innerHTML = docLinkHtml;\n",
              "          element.appendChild(docLink);\n",
              "        }\n",
              "      </script>\n",
              "    </div>\n",
              "  </div>\n",
              "  "
            ]
          },
          "metadata": {},
          "execution_count": 3
        }
      ]
    },
    {
      "cell_type": "code",
      "source": [
        "#Count the no. of rows and columns in cleaned dataset\n",
        "df.shape"
      ],
      "metadata": {
        "colab": {
          "base_uri": "https://localhost:8080/"
        },
        "id": "t-Yucn1cKAdl",
        "outputId": "837f5063-26c3-4222-bb58-7339eb696021"
      },
      "execution_count": null,
      "outputs": [
        {
          "output_type": "execute_result",
          "data": {
            "text/plain": [
              "(449, 10)"
            ]
          },
          "metadata": {},
          "execution_count": 4
        }
      ]
    },
    {
      "cell_type": "code",
      "source": [
        "#Dataset info\n",
        "df.info()"
      ],
      "metadata": {
        "colab": {
          "base_uri": "https://localhost:8080/"
        },
        "id": "ArIItTGiKJVd",
        "outputId": "1a574e94-26c9-4984-8ff7-d4e2395c3640"
      },
      "execution_count": null,
      "outputs": [
        {
          "output_type": "stream",
          "name": "stdout",
          "text": [
            "<class 'pandas.core.frame.DataFrame'>\n",
            "RangeIndex: 449 entries, 0 to 448\n",
            "Data columns (total 10 columns):\n",
            " #   Column             Non-Null Count  Dtype\n",
            "---  ------             --------------  -----\n",
            " 0   clump_thickness    449 non-null    int64\n",
            " 1   size_uniformity    449 non-null    int64\n",
            " 2   shape_uniformity   449 non-null    int64\n",
            " 3   marginal_adhesion  449 non-null    int64\n",
            " 4   epithelial_size    449 non-null    int64\n",
            " 5   bare_nucleoli      449 non-null    int64\n",
            " 6   bland_chromatin    449 non-null    int64\n",
            " 7   normal_nucleoli    449 non-null    int64\n",
            " 8   mitoses            449 non-null    int64\n",
            " 9   class              449 non-null    int64\n",
            "dtypes: int64(10)\n",
            "memory usage: 35.2 KB\n"
          ]
        }
      ]
    },
    {
      "cell_type": "code",
      "source": [
        "#describe dataset\n",
        "df.describe()"
      ],
      "metadata": {
        "colab": {
          "base_uri": "https://localhost:8080/",
          "height": 364
        },
        "id": "e4r8VGTrKNIq",
        "outputId": "2a052ddc-e31c-48c1-da39-e8353ae4ea14"
      },
      "execution_count": null,
      "outputs": [
        {
          "output_type": "execute_result",
          "data": {
            "text/plain": [
              "       clump_thickness  size_uniformity  shape_uniformity  marginal_adhesion  \\\n",
              "count       449.000000       449.000000        449.000000         449.000000   \n",
              "mean          5.378619         4.222717          4.273942           3.746102   \n",
              "std           2.869029         3.251280          3.141494           3.158413   \n",
              "min           1.000000         1.000000          1.000000           1.000000   \n",
              "25%           3.000000         1.000000          1.000000           1.000000   \n",
              "50%           5.000000         3.000000          3.000000           3.000000   \n",
              "75%           8.000000         7.000000          7.000000           6.000000   \n",
              "max          10.000000        10.000000         10.000000          10.000000   \n",
              "\n",
              "       epithelial_size  bare_nucleoli  bland_chromatin  normal_nucleoli  \\\n",
              "count       449.000000     449.000000       449.000000       449.000000   \n",
              "mean          3.879733       4.806236         4.200445         3.828508   \n",
              "std           2.456544       3.880509         2.651634         3.387146   \n",
              "min           1.000000       1.000000         1.000000         1.000000   \n",
              "25%           2.000000       1.000000         2.000000         1.000000   \n",
              "50%           3.000000       3.000000         3.000000         2.000000   \n",
              "75%           5.000000      10.000000         7.000000         7.000000   \n",
              "max          10.000000      10.000000        10.000000        10.000000   \n",
              "\n",
              "          mitoses       class  \n",
              "count  449.000000  449.000000  \n",
              "mean     1.913140    0.525612  \n",
              "std      2.068909    0.499901  \n",
              "min      1.000000    0.000000  \n",
              "25%      1.000000    0.000000  \n",
              "50%      1.000000    1.000000  \n",
              "75%      2.000000    1.000000  \n",
              "max     10.000000    1.000000  "
            ],
            "text/html": [
              "\n",
              "  <div id=\"df-57e29c43-805d-455f-b972-5c822d9b0657\">\n",
              "    <div class=\"colab-df-container\">\n",
              "      <div>\n",
              "<style scoped>\n",
              "    .dataframe tbody tr th:only-of-type {\n",
              "        vertical-align: middle;\n",
              "    }\n",
              "\n",
              "    .dataframe tbody tr th {\n",
              "        vertical-align: top;\n",
              "    }\n",
              "\n",
              "    .dataframe thead th {\n",
              "        text-align: right;\n",
              "    }\n",
              "</style>\n",
              "<table border=\"1\" class=\"dataframe\">\n",
              "  <thead>\n",
              "    <tr style=\"text-align: right;\">\n",
              "      <th></th>\n",
              "      <th>clump_thickness</th>\n",
              "      <th>size_uniformity</th>\n",
              "      <th>shape_uniformity</th>\n",
              "      <th>marginal_adhesion</th>\n",
              "      <th>epithelial_size</th>\n",
              "      <th>bare_nucleoli</th>\n",
              "      <th>bland_chromatin</th>\n",
              "      <th>normal_nucleoli</th>\n",
              "      <th>mitoses</th>\n",
              "      <th>class</th>\n",
              "    </tr>\n",
              "  </thead>\n",
              "  <tbody>\n",
              "    <tr>\n",
              "      <th>count</th>\n",
              "      <td>449.000000</td>\n",
              "      <td>449.000000</td>\n",
              "      <td>449.000000</td>\n",
              "      <td>449.000000</td>\n",
              "      <td>449.000000</td>\n",
              "      <td>449.000000</td>\n",
              "      <td>449.000000</td>\n",
              "      <td>449.000000</td>\n",
              "      <td>449.000000</td>\n",
              "      <td>449.000000</td>\n",
              "    </tr>\n",
              "    <tr>\n",
              "      <th>mean</th>\n",
              "      <td>5.378619</td>\n",
              "      <td>4.222717</td>\n",
              "      <td>4.273942</td>\n",
              "      <td>3.746102</td>\n",
              "      <td>3.879733</td>\n",
              "      <td>4.806236</td>\n",
              "      <td>4.200445</td>\n",
              "      <td>3.828508</td>\n",
              "      <td>1.913140</td>\n",
              "      <td>0.525612</td>\n",
              "    </tr>\n",
              "    <tr>\n",
              "      <th>std</th>\n",
              "      <td>2.869029</td>\n",
              "      <td>3.251280</td>\n",
              "      <td>3.141494</td>\n",
              "      <td>3.158413</td>\n",
              "      <td>2.456544</td>\n",
              "      <td>3.880509</td>\n",
              "      <td>2.651634</td>\n",
              "      <td>3.387146</td>\n",
              "      <td>2.068909</td>\n",
              "      <td>0.499901</td>\n",
              "    </tr>\n",
              "    <tr>\n",
              "      <th>min</th>\n",
              "      <td>1.000000</td>\n",
              "      <td>1.000000</td>\n",
              "      <td>1.000000</td>\n",
              "      <td>1.000000</td>\n",
              "      <td>1.000000</td>\n",
              "      <td>1.000000</td>\n",
              "      <td>1.000000</td>\n",
              "      <td>1.000000</td>\n",
              "      <td>1.000000</td>\n",
              "      <td>0.000000</td>\n",
              "    </tr>\n",
              "    <tr>\n",
              "      <th>25%</th>\n",
              "      <td>3.000000</td>\n",
              "      <td>1.000000</td>\n",
              "      <td>1.000000</td>\n",
              "      <td>1.000000</td>\n",
              "      <td>2.000000</td>\n",
              "      <td>1.000000</td>\n",
              "      <td>2.000000</td>\n",
              "      <td>1.000000</td>\n",
              "      <td>1.000000</td>\n",
              "      <td>0.000000</td>\n",
              "    </tr>\n",
              "    <tr>\n",
              "      <th>50%</th>\n",
              "      <td>5.000000</td>\n",
              "      <td>3.000000</td>\n",
              "      <td>3.000000</td>\n",
              "      <td>3.000000</td>\n",
              "      <td>3.000000</td>\n",
              "      <td>3.000000</td>\n",
              "      <td>3.000000</td>\n",
              "      <td>2.000000</td>\n",
              "      <td>1.000000</td>\n",
              "      <td>1.000000</td>\n",
              "    </tr>\n",
              "    <tr>\n",
              "      <th>75%</th>\n",
              "      <td>8.000000</td>\n",
              "      <td>7.000000</td>\n",
              "      <td>7.000000</td>\n",
              "      <td>6.000000</td>\n",
              "      <td>5.000000</td>\n",
              "      <td>10.000000</td>\n",
              "      <td>7.000000</td>\n",
              "      <td>7.000000</td>\n",
              "      <td>2.000000</td>\n",
              "      <td>1.000000</td>\n",
              "    </tr>\n",
              "    <tr>\n",
              "      <th>max</th>\n",
              "      <td>10.000000</td>\n",
              "      <td>10.000000</td>\n",
              "      <td>10.000000</td>\n",
              "      <td>10.000000</td>\n",
              "      <td>10.000000</td>\n",
              "      <td>10.000000</td>\n",
              "      <td>10.000000</td>\n",
              "      <td>10.000000</td>\n",
              "      <td>10.000000</td>\n",
              "      <td>1.000000</td>\n",
              "    </tr>\n",
              "  </tbody>\n",
              "</table>\n",
              "</div>\n",
              "      <button class=\"colab-df-convert\" onclick=\"convertToInteractive('df-57e29c43-805d-455f-b972-5c822d9b0657')\"\n",
              "              title=\"Convert this dataframe to an interactive table.\"\n",
              "              style=\"display:none;\">\n",
              "        \n",
              "  <svg xmlns=\"http://www.w3.org/2000/svg\" height=\"24px\"viewBox=\"0 0 24 24\"\n",
              "       width=\"24px\">\n",
              "    <path d=\"M0 0h24v24H0V0z\" fill=\"none\"/>\n",
              "    <path d=\"M18.56 5.44l.94 2.06.94-2.06 2.06-.94-2.06-.94-.94-2.06-.94 2.06-2.06.94zm-11 1L8.5 8.5l.94-2.06 2.06-.94-2.06-.94L8.5 2.5l-.94 2.06-2.06.94zm10 10l.94 2.06.94-2.06 2.06-.94-2.06-.94-.94-2.06-.94 2.06-2.06.94z\"/><path d=\"M17.41 7.96l-1.37-1.37c-.4-.4-.92-.59-1.43-.59-.52 0-1.04.2-1.43.59L10.3 9.45l-7.72 7.72c-.78.78-.78 2.05 0 2.83L4 21.41c.39.39.9.59 1.41.59.51 0 1.02-.2 1.41-.59l7.78-7.78 2.81-2.81c.8-.78.8-2.07 0-2.86zM5.41 20L4 18.59l7.72-7.72 1.47 1.35L5.41 20z\"/>\n",
              "  </svg>\n",
              "      </button>\n",
              "      \n",
              "  <style>\n",
              "    .colab-df-container {\n",
              "      display:flex;\n",
              "      flex-wrap:wrap;\n",
              "      gap: 12px;\n",
              "    }\n",
              "\n",
              "    .colab-df-convert {\n",
              "      background-color: #E8F0FE;\n",
              "      border: none;\n",
              "      border-radius: 50%;\n",
              "      cursor: pointer;\n",
              "      display: none;\n",
              "      fill: #1967D2;\n",
              "      height: 32px;\n",
              "      padding: 0 0 0 0;\n",
              "      width: 32px;\n",
              "    }\n",
              "\n",
              "    .colab-df-convert:hover {\n",
              "      background-color: #E2EBFA;\n",
              "      box-shadow: 0px 1px 2px rgba(60, 64, 67, 0.3), 0px 1px 3px 1px rgba(60, 64, 67, 0.15);\n",
              "      fill: #174EA6;\n",
              "    }\n",
              "\n",
              "    [theme=dark] .colab-df-convert {\n",
              "      background-color: #3B4455;\n",
              "      fill: #D2E3FC;\n",
              "    }\n",
              "\n",
              "    [theme=dark] .colab-df-convert:hover {\n",
              "      background-color: #434B5C;\n",
              "      box-shadow: 0px 1px 3px 1px rgba(0, 0, 0, 0.15);\n",
              "      filter: drop-shadow(0px 1px 2px rgba(0, 0, 0, 0.3));\n",
              "      fill: #FFFFFF;\n",
              "    }\n",
              "  </style>\n",
              "\n",
              "      <script>\n",
              "        const buttonEl =\n",
              "          document.querySelector('#df-57e29c43-805d-455f-b972-5c822d9b0657 button.colab-df-convert');\n",
              "        buttonEl.style.display =\n",
              "          google.colab.kernel.accessAllowed ? 'block' : 'none';\n",
              "\n",
              "        async function convertToInteractive(key) {\n",
              "          const element = document.querySelector('#df-57e29c43-805d-455f-b972-5c822d9b0657');\n",
              "          const dataTable =\n",
              "            await google.colab.kernel.invokeFunction('convertToInteractive',\n",
              "                                                     [key], {});\n",
              "          if (!dataTable) return;\n",
              "\n",
              "          const docLinkHtml = 'Like what you see? Visit the ' +\n",
              "            '<a target=\"_blank\" href=https://colab.research.google.com/notebooks/data_table.ipynb>data table notebook</a>'\n",
              "            + ' to learn more about interactive tables.';\n",
              "          element.innerHTML = '';\n",
              "          dataTable['output_type'] = 'display_data';\n",
              "          await google.colab.output.renderOutput(dataTable, element);\n",
              "          const docLink = document.createElement('div');\n",
              "          docLink.innerHTML = docLinkHtml;\n",
              "          element.appendChild(docLink);\n",
              "        }\n",
              "      </script>\n",
              "    </div>\n",
              "  </div>\n",
              "  "
            ]
          },
          "metadata": {},
          "execution_count": 6
        }
      ]
    },
    {
      "cell_type": "markdown",
      "source": [
        "Separation of dataset"
      ],
      "metadata": {
        "id": "FlqafIDBK1aS"
      }
    },
    {
      "cell_type": "markdown",
      "source": [
        "0 --> Benign\n",
        "\n",
        "1 --> Malignant"
      ],
      "metadata": {
        "id": "CxNlitFd388j"
      }
    },
    {
      "cell_type": "code",
      "source": [
        "#Get a count of the  number of Malignant (1) and Benign(0) cells\n",
        "df['class'].value_counts()"
      ],
      "metadata": {
        "colab": {
          "base_uri": "https://localhost:8080/"
        },
        "id": "VFkL9z2APfWe",
        "outputId": "c49d14eb-7a45-4850-90a7-8f080f634200"
      },
      "execution_count": null,
      "outputs": [
        {
          "output_type": "execute_result",
          "data": {
            "text/plain": [
              "1    236\n",
              "0    213\n",
              "Name: class, dtype: int64"
            ]
          },
          "metadata": {},
          "execution_count": 7
        }
      ]
    },
    {
      "cell_type": "code",
      "source": [
        "X = df.iloc[:,0:9].values\n",
        "Y = df.iloc[:, 9].values"
      ],
      "metadata": {
        "id": "hKUzLVEOQX7v"
      },
      "execution_count": null,
      "outputs": []
    },
    {
      "cell_type": "code",
      "source": [
        "X"
      ],
      "metadata": {
        "colab": {
          "base_uri": "https://localhost:8080/"
        },
        "id": "M6Wo4SDyQ8M-",
        "outputId": "2cded19d-7454-4c65-aa4c-f171a538de73"
      },
      "execution_count": null,
      "outputs": [
        {
          "output_type": "execute_result",
          "data": {
            "text/plain": [
              "array([[ 5,  1,  1, ...,  3,  1,  1],\n",
              "       [ 5,  4,  4, ...,  3,  2,  1],\n",
              "       [ 3,  1,  1, ...,  3,  1,  1],\n",
              "       ...,\n",
              "       [ 5, 10, 10, ...,  8, 10,  2],\n",
              "       [ 4,  8,  6, ..., 10,  6,  1],\n",
              "       [ 4,  8,  8, ..., 10,  4,  1]])"
            ]
          },
          "metadata": {},
          "execution_count": 9
        }
      ]
    },
    {
      "cell_type": "code",
      "source": [
        "Y"
      ],
      "metadata": {
        "colab": {
          "base_uri": "https://localhost:8080/"
        },
        "id": "V3AeRJHrQ8E3",
        "outputId": "77da9c73-f035-4b41-9cda-5310ff5c990a"
      },
      "execution_count": null,
      "outputs": [
        {
          "output_type": "execute_result",
          "data": {
            "text/plain": [
              "array([0, 0, 0, 0, 0, 1, 0, 0, 0, 0, 0, 0, 1, 0, 1, 1, 0, 0, 1, 0, 1, 1,\n",
              "       0, 0, 1, 0, 0, 0, 0, 0, 1, 0, 0, 1, 0, 1, 1, 1, 1, 1, 1, 0, 1, 0,\n",
              "       1, 1, 1, 1, 1, 1, 1, 1, 1, 1, 1, 1, 0, 1, 1, 1, 1, 1, 0, 0, 1, 0,\n",
              "       1, 1, 0, 0, 0, 0, 0, 0, 0, 0, 0, 1, 1, 1, 1, 0, 0, 0, 1, 1, 1, 1,\n",
              "       0, 1, 1, 1, 1, 1, 0, 1, 0, 1, 1, 1, 0, 0, 0, 1, 0, 0, 0, 0, 1, 1,\n",
              "       1, 1, 0, 1, 0, 1, 0, 0, 0, 0, 0, 0, 1, 1, 0, 0, 1, 1, 1, 0, 0, 1,\n",
              "       0, 1, 1, 0, 0, 0, 1, 1, 0, 1, 1, 1, 1, 1, 1, 1, 0, 1, 1, 1, 0, 1,\n",
              "       1, 0, 0, 1, 1, 1, 1, 0, 1, 1, 1, 1, 1, 1, 0, 0, 1, 1, 1, 1, 1, 1,\n",
              "       1, 1, 1, 0, 1, 0, 1, 1, 1, 1, 0, 0, 0, 0, 1, 1, 0, 0, 1, 0, 1, 0,\n",
              "       1, 1, 1, 1, 1, 0, 1, 1, 1, 1, 1, 0, 1, 1, 1, 1, 1, 1, 1, 1, 1, 1,\n",
              "       0, 0, 1, 1, 1, 1, 1, 1, 0, 1, 0, 1, 1, 0, 0, 1, 1, 0, 1, 1, 1, 1,\n",
              "       0, 0, 1, 1, 1, 1, 1, 1, 0, 0, 1, 1, 0, 0, 1, 0, 1, 1, 1, 1, 1, 1,\n",
              "       0, 0, 1, 1, 0, 0, 0, 0, 0, 1, 0, 0, 1, 0, 0, 0, 0, 1, 0, 0, 0, 0,\n",
              "       0, 1, 0, 0, 0, 0, 0, 1, 0, 1, 0, 1, 0, 0, 0, 1, 0, 1, 0, 1, 0, 0,\n",
              "       0, 0, 0, 1, 1, 0, 0, 1, 0, 0, 0, 0, 1, 0, 0, 1, 0, 1, 1, 1, 0, 0,\n",
              "       0, 0, 0, 1, 1, 1, 0, 0, 0, 0, 1, 0, 0, 1, 1, 0, 1, 1, 1, 1, 0, 1,\n",
              "       0, 0, 0, 1, 0, 1, 1, 0, 1, 0, 0, 1, 1, 0, 1, 0, 0, 0, 0, 0, 1, 0,\n",
              "       0, 1, 0, 0, 0, 0, 1, 0, 0, 1, 1, 1, 1, 1, 0, 1, 1, 0, 1, 1, 1, 1,\n",
              "       1, 1, 0, 0, 1, 1, 1, 0, 1, 1, 1, 1, 0, 0, 0, 0, 0, 0, 0, 1, 0, 0,\n",
              "       1, 0, 1, 0, 0, 0, 1, 0, 0, 0, 1, 0, 0, 0, 1, 1, 1, 0, 0, 0, 1, 1,\n",
              "       0, 0, 0, 1, 0, 0, 1, 1, 1])"
            ]
          },
          "metadata": {},
          "execution_count": 10
        }
      ]
    },
    {
      "cell_type": "code",
      "source": [
        "# Splitting the dataset into the Training set and Test set\n",
        "# split 70:30\n",
        "\n",
        "from sklearn.model_selection import train_test_split\n",
        "X_train, X_test, Y_train, Y_test = train_test_split(X, Y, test_size = 0.30, random_state =1,stratify=Y)"
      ],
      "metadata": {
        "id": "8D8RR0cqKSI9"
      },
      "execution_count": null,
      "outputs": []
    },
    {
      "cell_type": "code",
      "source": [
        "(unique, counts) = np.unique(Y_train, return_counts=True)\n",
        "frequencies = np.asarray((unique, counts)).T\n",
        "print(frequencies)"
      ],
      "metadata": {
        "colab": {
          "base_uri": "https://localhost:8080/"
        },
        "id": "jm3y9oLrb7I1",
        "outputId": "3d9e7131-cb22-4ef5-af11-fa53dcf3d31e"
      },
      "execution_count": null,
      "outputs": [
        {
          "output_type": "stream",
          "name": "stdout",
          "text": [
            "[[  0 149]\n",
            " [  1 165]]\n"
          ]
        }
      ]
    },
    {
      "cell_type": "code",
      "source": [
        "(unique, counts) = np.unique(Y_test, return_counts=True)\n",
        "frequencies = np.asarray((unique, counts)).T\n",
        "print(frequencies)"
      ],
      "metadata": {
        "colab": {
          "base_uri": "https://localhost:8080/"
        },
        "id": "An8hSz58dxe3",
        "outputId": "ff53dddb-8f2c-43f1-f306-c87e90b9b069"
      },
      "execution_count": null,
      "outputs": [
        {
          "output_type": "stream",
          "name": "stdout",
          "text": [
            "[[ 0 64]\n",
            " [ 1 71]]\n"
          ]
        }
      ]
    },
    {
      "cell_type": "code",
      "source": [
        ""
      ],
      "metadata": {
        "id": "rcxYmyJWd6G1"
      },
      "execution_count": null,
      "outputs": []
    },
    {
      "cell_type": "code",
      "source": [
        ""
      ],
      "metadata": {
        "id": "EyF2lJb8d55n"
      },
      "execution_count": null,
      "outputs": []
    },
    {
      "cell_type": "markdown",
      "source": [
        "BUILDING MODEL"
      ],
      "metadata": {
        "id": "auaS14VdcgJN"
      }
    },
    {
      "cell_type": "markdown",
      "source": [
        "1. Logistic Regression"
      ],
      "metadata": {
        "id": "9g7k8dixclCk"
      }
    },
    {
      "cell_type": "code",
      "source": [
        "from sklearn.linear_model import LogisticRegression\n",
        "\n",
        "# instantiate the model (using the default parameters)\n",
        "logreg = LogisticRegression()\n",
        "\n",
        "# fit the model with data\n",
        "logreg.fit(X_train,Y_train)\n",
        "\n",
        "#\n",
        "Y_pred_LG=logreg.predict(X_test)"
      ],
      "metadata": {
        "id": "hrm_DdOfnHHU"
      },
      "execution_count": null,
      "outputs": []
    },
    {
      "cell_type": "code",
      "source": [
        "# import the metrics class\n",
        "from sklearn import metrics\n",
        "cnf_matrix_LG = metrics.confusion_matrix(Y_test, Y_pred_LG)\n",
        "cnf_matrix_LG"
      ],
      "metadata": {
        "colab": {
          "base_uri": "https://localhost:8080/"
        },
        "id": "7erPc-hTqyJs",
        "outputId": "96bb1cfe-0915-4fcf-9c7f-1b8cd3b71a35"
      },
      "execution_count": null,
      "outputs": [
        {
          "output_type": "execute_result",
          "data": {
            "text/plain": [
              "array([[58,  6],\n",
              "       [ 3, 68]])"
            ]
          },
          "metadata": {},
          "execution_count": 15
        }
      ]
    },
    {
      "cell_type": "code",
      "source": [
        "class_names=[0,1] # name  of classes\n",
        "fig, ax = plt.subplots()\n",
        "tick_marks = np.arange(len(class_names))\n",
        "plt.xticks(tick_marks, class_names)\n",
        "plt.yticks(tick_marks, class_names)\n",
        "# create heatmap\n",
        "sns.heatmap(pd.DataFrame(cnf_matrix_LG), annot=True, cmap=\"YlGnBu\" ,fmt='g')\n",
        "ax.xaxis.set_label_position(\"top\")\n",
        "plt.tight_layout()\n",
        "plt.title('Confusion matrix', y=1.1)\n",
        "plt.ylabel('Actual label')\n",
        "plt.xlabel('Predicted label')"
      ],
      "metadata": {
        "colab": {
          "base_uri": "https://localhost:8080/",
          "height": 343
        },
        "id": "AB-hOGFK47kk",
        "outputId": "ec35cf8f-91ff-43ec-db47-1ae6671e7ee9"
      },
      "execution_count": null,
      "outputs": [
        {
          "output_type": "execute_result",
          "data": {
            "text/plain": [
              "Text(0.5, 257.44, 'Predicted label')"
            ]
          },
          "metadata": {},
          "execution_count": 16
        },
        {
          "output_type": "display_data",
          "data": {
            "text/plain": [
              "<Figure size 432x288 with 2 Axes>"
            ],
            "image/png": "[encoded data removed]"
          },
          "metadata": {
            "needs_background": "light"
          }
        }
      ]
    },
    {
      "cell_type": "code",
      "source": [
        "accuracy = metrics.accuracy_score(Y_test, Y_pred_LG)\n",
        "precision = metrics.precision_score(Y_test, Y_pred_LG)\n",
        "recall = metrics.recall_score(Y_test, Y_pred_LG)\n",
        "F1 = 2 * (precision * recall) / (precision + recall)"
      ],
      "metadata": {
        "id": "Tp4rHxvrrfuq"
      },
      "execution_count": null,
      "outputs": []
    },
    {
      "cell_type": "code",
      "source": [
        "print(\"Accuracy : \",accuracy)\n",
        "print(\"Precision : \",precision)\n",
        "print(\"Recall : \",recall)\n",
        "print(\"F-score : \",F1)"
      ],
      "metadata": {
        "colab": {
          "base_uri": "https://localhost:8080/"
        },
        "id": "E9G1F-4mrcJw",
        "outputId": "bb12f8a7-7e15-4e3b-d790-9e88f27f7da8"
      },
      "execution_count": null,
      "outputs": [
        {
          "output_type": "stream",
          "name": "stdout",
          "text": [
            "Accuracy :  0.9333333333333333\n",
            "Precision :  0.918918918918919\n",
            "Recall :  0.9577464788732394\n",
            "F-score :  0.9379310344827587\n"
          ]
        }
      ]
    },
    {
      "cell_type": "code",
      "source": [
        ""
      ],
      "metadata": {
        "id": "zmgTEY0Zrbzi"
      },
      "execution_count": null,
      "outputs": []
    },
    {
      "cell_type": "code",
      "source": [
        ""
      ],
      "metadata": {
        "id": "LytY_It066g_"
      },
      "execution_count": null,
      "outputs": []
    },
    {
      "cell_type": "markdown",
      "source": [
        "2. decision tree"
      ],
      "metadata": {
        "id": "3i2ZQ7ACnHqI"
      }
    },
    {
      "cell_type": "code",
      "source": [
        "from sklearn import tree\n",
        "from sklearn.tree import DecisionTreeClassifier\n",
        "from sklearn.tree import export_graphviz\n",
        "import graphviz \n",
        "\n",
        "\n",
        "# Information gain\n",
        "decisiontree = tree.DecisionTreeClassifier(criterion=\"entropy\")\n",
        "decisiontree = decisiontree.fit(X_train, Y_train)\n",
        "Y_pred_DT = decisiontree.predict(X_test)\n",
        "feature_names = [\"Clump Thickness\", \"Uniformity of Cell Size\", \"Uniformity of Cell Shape\", \"Marginal Adhesion\", \"Single Epithelial Cell Size\", \"Bare Nuclei\" ,\n",
        "                            \"Bland Chromatin\", \"Normal Nucleoli\", \"Mitoses\"]\n",
        "infoG_tree = tree.export_graphviz(decisiontree , out_file= None, feature_names=feature_names, class_names='01', filled=True, rounded=True, special_characters=True)\n",
        "\n",
        "infoG_graph = graphviz.Source(infoG_tree)\n",
        "infoG_graph"
      ],
      "metadata": {
        "colab": {
          "base_uri": "https://localhost:8080/",
          "height": 1392
        },
        "id": "0yWZUfTn9brq",
        "outputId": "f73c6180-d215-41eb-f7be-644fdc6e4235"
      },
      "execution_count": null,
      "outputs": [
        {
          "output_type": "execute_result",
          "data": {
            "text/plain": [
              "<graphviz.files.Source at 0x7fb9dbb9a590>"
            ],
            "image/svg+xml": "<?xml version=\"1.0\" encoding=\"UTF-8\" standalone=\"no\"?>\n<!DOCTYPE svg PUBLIC \"-//W3C//DTD SVG 1.1//EN\"\n \"http://www.w3.org/Graphics/SVG/1.1/DTD/svg11.dtd\">\n<!-- Generated by graphviz version 2.40.1 (20161225.0304)\n -->\n<!-- Title: Tree Pages: 1 -->\n<svg width=\"1167pt\" height=\"1028pt\"\n viewBox=\"0.00 0.00 1166.50 1028.00\" xmlns=\"http://www.w3.org/2000/svg\" xmlns:xlink=\"http://www.w3.org/1999/xlink\">\n<g id=\"graph0\" class=\"graph\" transform=\"scale(1 1) rotate(0) translate(4 1024)\">\n<title>Tree</title>\n<polygon fill=\"#ffffff\" stroke=\"transparent\" points=\"-4,4 -4,-1024 1162.5,-1024 1162.5,4 -4,4\"/>\n<!-- 0 -->\n<g id=\"node1\" class=\"node\">\n<title>0</title>\n<path fill=\"#ecf5fc\" stroke=\"#000000\" d=\"M903.5,-1020C903.5,-1020 734.5,-1020 734.5,-1020 728.5,-1020 722.5,-1014 722.5,-1008 722.5,-1008 722.5,-949 722.5,-949 722.5,-943 728.5,-937 734.5,-937 734.5,-937 903.5,-937 903.5,-937 909.5,-937 915.5,-943 915.5,-949 915.5,-949 915.5,-1008 915.5,-1008 915.5,-1014 909.5,-1020 903.5,-1020\"/>\n<text text-anchor=\"start\" x=\"730.5\" y=\"-1004.8\" font-family=\"Helvetica,sans-Serif\" font-size=\"14.00\" fill=\"#000000\">Uniformity of Cell Size ≤ 3.5</text>\n<text text-anchor=\"start\" x=\"768\" y=\"-989.8\" font-family=\"Helvetica,sans-Serif\" font-size=\"14.00\" fill=\"#000000\">entropy = 0.998</text>\n<text text-anchor=\"start\" x=\"771\" y=\"-974.8\" font-family=\"Helvetica,sans-Serif\" font-size=\"14.00\" fill=\"#000000\">samples = 314</text>\n<text text-anchor=\"start\" x=\"761\" y=\"-959.8\" font-family=\"Helvetica,sans-Serif\" font-size=\"14.00\" fill=\"#000000\">value = [149, 165]</text>\n<text text-anchor=\"start\" x=\"790\" y=\"-944.8\" font-family=\"Helvetica,sans-Serif\" font-size=\"14.00\" fill=\"#000000\">class = 1</text>\n</g>\n<!-- 1 -->\n<g id=\"node2\" class=\"node\">\n<title>1</title>\n<path fill=\"#ea985d\" stroke=\"#000000\" d=\"M625.5,-901C625.5,-901 522.5,-901 522.5,-901 516.5,-901 510.5,-895 510.5,-889 510.5,-889 510.5,-830 510.5,-830 510.5,-824 516.5,-818 522.5,-818 522.5,-818 625.5,-818 625.5,-818 631.5,-818 637.5,-824 637.5,-830 637.5,-830 637.5,-889 637.5,-889 637.5,-895 631.5,-901 625.5,-901\"/>\n<text text-anchor=\"start\" x=\"518.5\" y=\"-885.8\" font-family=\"Helvetica,sans-Serif\" font-size=\"14.00\" fill=\"#000000\">Bare Nuclei ≤ 2.5</text>\n<text text-anchor=\"start\" x=\"523\" y=\"-870.8\" font-family=\"Helvetica,sans-Serif\" font-size=\"14.00\" fill=\"#000000\">entropy = 0.615</text>\n<text text-anchor=\"start\" x=\"526\" y=\"-855.8\" font-family=\"Helvetica,sans-Serif\" font-size=\"14.00\" fill=\"#000000\">samples = 171</text>\n<text text-anchor=\"start\" x=\"520\" y=\"-840.8\" font-family=\"Helvetica,sans-Serif\" font-size=\"14.00\" fill=\"#000000\">value = [145, 26]</text>\n<text text-anchor=\"start\" x=\"545\" y=\"-825.8\" font-family=\"Helvetica,sans-Serif\" font-size=\"14.00\" fill=\"#000000\">class = 0</text>\n</g>\n<!-- 0&#45;&gt;1 -->\n<g id=\"edge1\" class=\"edge\">\n<title>0&#45;&gt;1</title>\n<path fill=\"none\" stroke=\"#000000\" d=\"M733.3109,-936.8796C705.0445,-923.1502 673.8954,-908.0206 646.6948,-894.8089\"/>\n<polygon fill=\"#000000\" stroke=\"#000000\" points=\"648.1558,-891.6276 637.6315,-890.4067 645.0974,-897.9241 648.1558,-891.6276\"/>\n<text text-anchor=\"middle\" x=\"645.8093\" y=\"-910.3314\" font-family=\"Helvetica,sans-Serif\" font-size=\"14.00\" fill=\"#000000\">True</text>\n</g>\n<!-- 22 -->\n<g id=\"node23\" class=\"node\">\n<title>22</title>\n<path fill=\"#3fa0e6\" stroke=\"#000000\" d=\"M1037.5,-901C1037.5,-901 868.5,-901 868.5,-901 862.5,-901 856.5,-895 856.5,-889 856.5,-889 856.5,-830 856.5,-830 856.5,-824 862.5,-818 868.5,-818 868.5,-818 1037.5,-818 1037.5,-818 1043.5,-818 1049.5,-824 1049.5,-830 1049.5,-830 1049.5,-889 1049.5,-889 1049.5,-895 1043.5,-901 1037.5,-901\"/>\n<text text-anchor=\"start\" x=\"864.5\" y=\"-885.8\" font-family=\"Helvetica,sans-Serif\" font-size=\"14.00\" fill=\"#000000\">Uniformity of Cell Size ≤ 4.5</text>\n<text text-anchor=\"start\" x=\"902\" y=\"-870.8\" font-family=\"Helvetica,sans-Serif\" font-size=\"14.00\" fill=\"#000000\">entropy = 0.184</text>\n<text text-anchor=\"start\" x=\"905\" y=\"-855.8\" font-family=\"Helvetica,sans-Serif\" font-size=\"14.00\" fill=\"#000000\">samples = 143</text>\n<text text-anchor=\"start\" x=\"903\" y=\"-840.8\" font-family=\"Helvetica,sans-Serif\" font-size=\"14.00\" fill=\"#000000\">value = [4, 139]</text>\n<text text-anchor=\"start\" x=\"924\" y=\"-825.8\" font-family=\"Helvetica,sans-Serif\" font-size=\"14.00\" fill=\"#000000\">class = 1</text>\n</g>\n<!-- 0&#45;&gt;22 -->\n<g id=\"edge22\" class=\"edge\">\n<title>0&#45;&gt;22</title>\n<path fill=\"none\" stroke=\"#000000\" d=\"M865.8667,-936.8796C876.3125,-927.6031 887.4781,-917.6874 898.211,-908.1559\"/>\n<polygon fill=\"#000000\" stroke=\"#000000\" points=\"900.7801,-910.5553 905.9333,-901.2981 896.132,-905.3213 900.7801,-910.5553\"/>\n<text text-anchor=\"middle\" x=\"904.4536\" y=\"-922.5542\" font-family=\"Helvetica,sans-Serif\" font-size=\"14.00\" fill=\"#000000\">False</text>\n</g>\n<!-- 2 -->\n<g id=\"node3\" class=\"node\">\n<title>2</title>\n<path fill=\"#e5833c\" stroke=\"#000000\" d=\"M333.5,-782C333.5,-782 142.5,-782 142.5,-782 136.5,-782 130.5,-776 130.5,-770 130.5,-770 130.5,-711 130.5,-711 130.5,-705 136.5,-699 142.5,-699 142.5,-699 333.5,-699 333.5,-699 339.5,-699 345.5,-705 345.5,-711 345.5,-711 345.5,-770 345.5,-770 345.5,-776 339.5,-782 333.5,-782\"/>\n<text text-anchor=\"start\" x=\"138.5\" y=\"-766.8\" font-family=\"Helvetica,sans-Serif\" font-size=\"14.00\" fill=\"#000000\">Single Epithelial Cell Size ≤ 4.0</text>\n<text text-anchor=\"start\" x=\"187\" y=\"-751.8\" font-family=\"Helvetica,sans-Serif\" font-size=\"14.00\" fill=\"#000000\">entropy = 0.116</text>\n<text text-anchor=\"start\" x=\"190\" y=\"-736.8\" font-family=\"Helvetica,sans-Serif\" font-size=\"14.00\" fill=\"#000000\">samples = 128</text>\n<text text-anchor=\"start\" x=\"188\" y=\"-721.8\" font-family=\"Helvetica,sans-Serif\" font-size=\"14.00\" fill=\"#000000\">value = [126, 2]</text>\n<text text-anchor=\"start\" x=\"209\" y=\"-706.8\" font-family=\"Helvetica,sans-Serif\" font-size=\"14.00\" fill=\"#000000\">class = 0</text>\n</g>\n<!-- 1&#45;&gt;2 -->\n<g id=\"edge2\" class=\"edge\">\n<title>1&#45;&gt;2</title>\n<path fill=\"none\" stroke=\"#000000\" d=\"M510.406,-836.9771C466.7041,-821.4994 407.3859,-800.4908 355.2598,-782.0295\"/>\n<polygon fill=\"#000000\" stroke=\"#000000\" points=\"356.2105,-778.6533 345.6158,-778.6139 353.8736,-785.2516 356.2105,-778.6533\"/>\n</g>\n<!-- 7 -->\n<g id=\"node8\" class=\"node\">\n<title>7</title>\n<path fill=\"#d6ebfa\" stroke=\"#000000\" d=\"M644,-782C644,-782 504,-782 504,-782 498,-782 492,-776 492,-770 492,-770 492,-711 492,-711 492,-705 498,-699 504,-699 504,-699 644,-699 644,-699 650,-699 656,-705 656,-711 656,-711 656,-770 656,-770 656,-776 650,-782 644,-782\"/>\n<text text-anchor=\"start\" x=\"500\" y=\"-766.8\" font-family=\"Helvetica,sans-Serif\" font-size=\"14.00\" fill=\"#000000\">Clump Thickness ≤ 4.5</text>\n<text text-anchor=\"start\" x=\"527\" y=\"-751.8\" font-family=\"Helvetica,sans-Serif\" font-size=\"14.00\" fill=\"#000000\">entropy = 0.99</text>\n<text text-anchor=\"start\" x=\"530\" y=\"-736.8\" font-family=\"Helvetica,sans-Serif\" font-size=\"14.00\" fill=\"#000000\">samples = 43</text>\n<text text-anchor=\"start\" x=\"524\" y=\"-721.8\" font-family=\"Helvetica,sans-Serif\" font-size=\"14.00\" fill=\"#000000\">value = [19, 24]</text>\n<text text-anchor=\"start\" x=\"545\" y=\"-706.8\" font-family=\"Helvetica,sans-Serif\" font-size=\"14.00\" fill=\"#000000\">class = 1</text>\n</g>\n<!-- 1&#45;&gt;7 -->\n<g id=\"edge7\" class=\"edge\">\n<title>1&#45;&gt;7</title>\n<path fill=\"none\" stroke=\"#000000\" d=\"M574,-817.8796C574,-809.6838 574,-800.9891 574,-792.5013\"/>\n<polygon fill=\"#000000\" stroke=\"#000000\" points=\"577.5001,-792.298 574,-782.2981 570.5001,-792.2981 577.5001,-792.298\"/>\n</g>\n<!-- 3 -->\n<g id=\"node4\" class=\"node\">\n<title>3</title>\n<path fill=\"#e58139\" stroke=\"#000000\" d=\"M104,-655.5C104,-655.5 12,-655.5 12,-655.5 6,-655.5 0,-649.5 0,-643.5 0,-643.5 0,-599.5 0,-599.5 0,-593.5 6,-587.5 12,-587.5 12,-587.5 104,-587.5 104,-587.5 110,-587.5 116,-593.5 116,-599.5 116,-599.5 116,-643.5 116,-643.5 116,-649.5 110,-655.5 104,-655.5\"/>\n<text text-anchor=\"start\" x=\"15.5\" y=\"-640.3\" font-family=\"Helvetica,sans-Serif\" font-size=\"14.00\" fill=\"#000000\">entropy = 0.0</text>\n<text text-anchor=\"start\" x=\"10\" y=\"-625.3\" font-family=\"Helvetica,sans-Serif\" font-size=\"14.00\" fill=\"#000000\">samples = 122</text>\n<text text-anchor=\"start\" x=\"8\" y=\"-610.3\" font-family=\"Helvetica,sans-Serif\" font-size=\"14.00\" fill=\"#000000\">value = [122, 0]</text>\n<text text-anchor=\"start\" x=\"29\" y=\"-595.3\" font-family=\"Helvetica,sans-Serif\" font-size=\"14.00\" fill=\"#000000\">class = 0</text>\n</g>\n<!-- 2&#45;&gt;3 -->\n<g id=\"edge3\" class=\"edge\">\n<title>2&#45;&gt;3</title>\n<path fill=\"none\" stroke=\"#000000\" d=\"M175.0447,-698.8796C156.6616,-686.7263 136.6189,-673.4759 118.3979,-661.4297\"/>\n<polygon fill=\"#000000\" stroke=\"#000000\" points=\"119.8867,-658.2183 109.6147,-655.623 116.0263,-664.0576 119.8867,-658.2183\"/>\n</g>\n<!-- 4 -->\n<g id=\"node5\" class=\"node\">\n<title>4</title>\n<path fill=\"#f2c09c\" stroke=\"#000000\" d=\"M329.5,-663C329.5,-663 146.5,-663 146.5,-663 140.5,-663 134.5,-657 134.5,-651 134.5,-651 134.5,-592 134.5,-592 134.5,-586 140.5,-580 146.5,-580 146.5,-580 329.5,-580 329.5,-580 335.5,-580 341.5,-586 341.5,-592 341.5,-592 341.5,-651 341.5,-651 341.5,-657 335.5,-663 329.5,-663\"/>\n<text text-anchor=\"start\" x=\"142.5\" y=\"-647.8\" font-family=\"Helvetica,sans-Serif\" font-size=\"14.00\" fill=\"#000000\">Uniformity of Cell Shape ≤ 2.5</text>\n<text text-anchor=\"start\" x=\"187\" y=\"-632.8\" font-family=\"Helvetica,sans-Serif\" font-size=\"14.00\" fill=\"#000000\">entropy = 0.918</text>\n<text text-anchor=\"start\" x=\"198.5\" y=\"-617.8\" font-family=\"Helvetica,sans-Serif\" font-size=\"14.00\" fill=\"#000000\">samples = 6</text>\n<text text-anchor=\"start\" x=\"196.5\" y=\"-602.8\" font-family=\"Helvetica,sans-Serif\" font-size=\"14.00\" fill=\"#000000\">value = [4, 2]</text>\n<text text-anchor=\"start\" x=\"209\" y=\"-587.8\" font-family=\"Helvetica,sans-Serif\" font-size=\"14.00\" fill=\"#000000\">class = 0</text>\n</g>\n<!-- 2&#45;&gt;4 -->\n<g id=\"edge4\" class=\"edge\">\n<title>2&#45;&gt;4</title>\n<path fill=\"none\" stroke=\"#000000\" d=\"M238,-698.8796C238,-690.6838 238,-681.9891 238,-673.5013\"/>\n<polygon fill=\"#000000\" stroke=\"#000000\" points=\"241.5001,-673.298 238,-663.2981 234.5001,-673.2981 241.5001,-673.298\"/>\n</g>\n<!-- 5 -->\n<g id=\"node6\" class=\"node\">\n<title>5</title>\n<path fill=\"#e58139\" stroke=\"#000000\" d=\"M157.5,-536.5C157.5,-536.5 80.5,-536.5 80.5,-536.5 74.5,-536.5 68.5,-530.5 68.5,-524.5 68.5,-524.5 68.5,-480.5 68.5,-480.5 68.5,-474.5 74.5,-468.5 80.5,-468.5 80.5,-468.5 157.5,-468.5 157.5,-468.5 163.5,-468.5 169.5,-474.5 169.5,-480.5 169.5,-480.5 169.5,-524.5 169.5,-524.5 169.5,-530.5 163.5,-536.5 157.5,-536.5\"/>\n<text text-anchor=\"start\" x=\"76.5\" y=\"-521.3\" font-family=\"Helvetica,sans-Serif\" font-size=\"14.00\" fill=\"#000000\">entropy = 0.0</text>\n<text text-anchor=\"start\" x=\"79.5\" y=\"-506.3\" font-family=\"Helvetica,sans-Serif\" font-size=\"14.00\" fill=\"#000000\">samples = 4</text>\n<text text-anchor=\"start\" x=\"77.5\" y=\"-491.3\" font-family=\"Helvetica,sans-Serif\" font-size=\"14.00\" fill=\"#000000\">value = [4, 0]</text>\n<text text-anchor=\"start\" x=\"90\" y=\"-476.3\" font-family=\"Helvetica,sans-Serif\" font-size=\"14.00\" fill=\"#000000\">class = 0</text>\n</g>\n<!-- 4&#45;&gt;5 -->\n<g id=\"edge5\" class=\"edge\">\n<title>4&#45;&gt;5</title>\n<path fill=\"none\" stroke=\"#000000\" d=\"M196.3796,-579.8796C184.7237,-568.2237 172.0587,-555.5587 160.4148,-543.9148\"/>\n<polygon fill=\"#000000\" stroke=\"#000000\" points=\"162.8609,-541.4111 153.3149,-536.8149 157.9111,-546.3609 162.8609,-541.4111\"/>\n</g>\n<!-- 6 -->\n<g id=\"node7\" class=\"node\">\n<title>6</title>\n<path fill=\"#399de5\" stroke=\"#000000\" d=\"M276.5,-536.5C276.5,-536.5 199.5,-536.5 199.5,-536.5 193.5,-536.5 187.5,-530.5 187.5,-524.5 187.5,-524.5 187.5,-480.5 187.5,-480.5 187.5,-474.5 193.5,-468.5 199.5,-468.5 199.5,-468.5 276.5,-468.5 276.5,-468.5 282.5,-468.5 288.5,-474.5 288.5,-480.5 288.5,-480.5 288.5,-524.5 288.5,-524.5 288.5,-530.5 282.5,-536.5 276.5,-536.5\"/>\n<text text-anchor=\"start\" x=\"195.5\" y=\"-521.3\" font-family=\"Helvetica,sans-Serif\" font-size=\"14.00\" fill=\"#000000\">entropy = 0.0</text>\n<text text-anchor=\"start\" x=\"198.5\" y=\"-506.3\" font-family=\"Helvetica,sans-Serif\" font-size=\"14.00\" fill=\"#000000\">samples = 2</text>\n<text text-anchor=\"start\" x=\"196.5\" y=\"-491.3\" font-family=\"Helvetica,sans-Serif\" font-size=\"14.00\" fill=\"#000000\">value = [0, 2]</text>\n<text text-anchor=\"start\" x=\"209\" y=\"-476.3\" font-family=\"Helvetica,sans-Serif\" font-size=\"14.00\" fill=\"#000000\">class = 1</text>\n</g>\n<!-- 4&#45;&gt;6 -->\n<g id=\"edge6\" class=\"edge\">\n<title>4&#45;&gt;6</title>\n<path fill=\"none\" stroke=\"#000000\" d=\"M238,-579.8796C238,-569.2134 238,-557.7021 238,-546.9015\"/>\n<polygon fill=\"#000000\" stroke=\"#000000\" points=\"241.5001,-546.8149 238,-536.8149 234.5001,-546.815 241.5001,-546.8149\"/>\n</g>\n<!-- 8 -->\n<g id=\"node9\" class=\"node\">\n<title>8</title>\n<path fill=\"#e89152\" stroke=\"#000000\" d=\"M563.5,-663C563.5,-663 380.5,-663 380.5,-663 374.5,-663 368.5,-657 368.5,-651 368.5,-651 368.5,-592 368.5,-592 368.5,-586 374.5,-580 380.5,-580 380.5,-580 563.5,-580 563.5,-580 569.5,-580 575.5,-586 575.5,-592 575.5,-592 575.5,-651 575.5,-651 575.5,-657 569.5,-663 563.5,-663\"/>\n<text text-anchor=\"start\" x=\"376.5\" y=\"-647.8\" font-family=\"Helvetica,sans-Serif\" font-size=\"14.00\" fill=\"#000000\">Uniformity of Cell Shape ≤ 3.5</text>\n<text text-anchor=\"start\" x=\"421\" y=\"-632.8\" font-family=\"Helvetica,sans-Serif\" font-size=\"14.00\" fill=\"#000000\">entropy = 0.503</text>\n<text text-anchor=\"start\" x=\"428\" y=\"-617.8\" font-family=\"Helvetica,sans-Serif\" font-size=\"14.00\" fill=\"#000000\">samples = 18</text>\n<text text-anchor=\"start\" x=\"426.5\" y=\"-602.8\" font-family=\"Helvetica,sans-Serif\" font-size=\"14.00\" fill=\"#000000\">value = [16, 2]</text>\n<text text-anchor=\"start\" x=\"443\" y=\"-587.8\" font-family=\"Helvetica,sans-Serif\" font-size=\"14.00\" fill=\"#000000\">class = 0</text>\n</g>\n<!-- 7&#45;&gt;8 -->\n<g id=\"edge8\" class=\"edge\">\n<title>7&#45;&gt;8</title>\n<path fill=\"none\" stroke=\"#000000\" d=\"M538.3253,-698.8796C530.6057,-689.8733 522.3695,-680.2644 514.4197,-670.9897\"/>\n<polygon fill=\"#000000\" stroke=\"#000000\" points=\"516.9923,-668.6129 507.8269,-663.2981 511.6775,-673.1684 516.9923,-668.6129\"/>\n</g>\n<!-- 11 -->\n<g id=\"node12\" class=\"node\">\n<title>11</title>\n<path fill=\"#54aae9\" stroke=\"#000000\" d=\"M746,-663C746,-663 606,-663 606,-663 600,-663 594,-657 594,-651 594,-651 594,-592 594,-592 594,-586 600,-580 606,-580 606,-580 746,-580 746,-580 752,-580 758,-586 758,-592 758,-592 758,-651 758,-651 758,-657 752,-663 746,-663\"/>\n<text text-anchor=\"start\" x=\"602\" y=\"-647.8\" font-family=\"Helvetica,sans-Serif\" font-size=\"14.00\" fill=\"#000000\">Clump Thickness ≤ 6.5</text>\n<text text-anchor=\"start\" x=\"625\" y=\"-632.8\" font-family=\"Helvetica,sans-Serif\" font-size=\"14.00\" fill=\"#000000\">entropy = 0.529</text>\n<text text-anchor=\"start\" x=\"632\" y=\"-617.8\" font-family=\"Helvetica,sans-Serif\" font-size=\"14.00\" fill=\"#000000\">samples = 25</text>\n<text text-anchor=\"start\" x=\"630.5\" y=\"-602.8\" font-family=\"Helvetica,sans-Serif\" font-size=\"14.00\" fill=\"#000000\">value = [3, 22]</text>\n<text text-anchor=\"start\" x=\"647\" y=\"-587.8\" font-family=\"Helvetica,sans-Serif\" font-size=\"14.00\" fill=\"#000000\">class = 1</text>\n</g>\n<!-- 7&#45;&gt;11 -->\n<g id=\"edge11\" class=\"edge\">\n<title>7&#45;&gt;11</title>\n<path fill=\"none\" stroke=\"#000000\" d=\"M609.6747,-698.8796C617.3943,-689.8733 625.6305,-680.2644 633.5803,-670.9897\"/>\n<polygon fill=\"#000000\" stroke=\"#000000\" points=\"636.3225,-673.1684 640.1731,-663.2981 631.0077,-668.6129 636.3225,-673.1684\"/>\n</g>\n<!-- 9 -->\n<g id=\"node10\" class=\"node\">\n<title>9</title>\n<path fill=\"#e58139\" stroke=\"#000000\" d=\"M401.5,-536.5C401.5,-536.5 318.5,-536.5 318.5,-536.5 312.5,-536.5 306.5,-530.5 306.5,-524.5 306.5,-524.5 306.5,-480.5 306.5,-480.5 306.5,-474.5 312.5,-468.5 318.5,-468.5 318.5,-468.5 401.5,-468.5 401.5,-468.5 407.5,-468.5 413.5,-474.5 413.5,-480.5 413.5,-480.5 413.5,-524.5 413.5,-524.5 413.5,-530.5 407.5,-536.5 401.5,-536.5\"/>\n<text text-anchor=\"start\" x=\"317.5\" y=\"-521.3\" font-family=\"Helvetica,sans-Serif\" font-size=\"14.00\" fill=\"#000000\">entropy = 0.0</text>\n<text text-anchor=\"start\" x=\"316\" y=\"-506.3\" font-family=\"Helvetica,sans-Serif\" font-size=\"14.00\" fill=\"#000000\">samples = 16</text>\n<text text-anchor=\"start\" x=\"314.5\" y=\"-491.3\" font-family=\"Helvetica,sans-Serif\" font-size=\"14.00\" fill=\"#000000\">value = [16, 0]</text>\n<text text-anchor=\"start\" x=\"331\" y=\"-476.3\" font-family=\"Helvetica,sans-Serif\" font-size=\"14.00\" fill=\"#000000\">class = 0</text>\n</g>\n<!-- 8&#45;&gt;9 -->\n<g id=\"edge9\" class=\"edge\">\n<title>8&#45;&gt;9</title>\n<path fill=\"none\" stroke=\"#000000\" d=\"M432.8278,-579.8796C421.9611,-568.3337 410.1624,-555.7976 399.2891,-544.2446\"/>\n<polygon fill=\"#000000\" stroke=\"#000000\" points=\"401.6988,-541.6982 392.2964,-536.8149 396.6014,-546.4958 401.6988,-541.6982\"/>\n</g>\n<!-- 10 -->\n<g id=\"node11\" class=\"node\">\n<title>10</title>\n<path fill=\"#399de5\" stroke=\"#000000\" d=\"M520.5,-536.5C520.5,-536.5 443.5,-536.5 443.5,-536.5 437.5,-536.5 431.5,-530.5 431.5,-524.5 431.5,-524.5 431.5,-480.5 431.5,-480.5 431.5,-474.5 437.5,-468.5 443.5,-468.5 443.5,-468.5 520.5,-468.5 520.5,-468.5 526.5,-468.5 532.5,-474.5 532.5,-480.5 532.5,-480.5 532.5,-524.5 532.5,-524.5 532.5,-530.5 526.5,-536.5 520.5,-536.5\"/>\n<text text-anchor=\"start\" x=\"439.5\" y=\"-521.3\" font-family=\"Helvetica,sans-Serif\" font-size=\"14.00\" fill=\"#000000\">entropy = 0.0</text>\n<text text-anchor=\"start\" x=\"442.5\" y=\"-506.3\" font-family=\"Helvetica,sans-Serif\" font-size=\"14.00\" fill=\"#000000\">samples = 2</text>\n<text text-anchor=\"start\" x=\"440.5\" y=\"-491.3\" font-family=\"Helvetica,sans-Serif\" font-size=\"14.00\" fill=\"#000000\">value = [0, 2]</text>\n<text text-anchor=\"start\" x=\"453\" y=\"-476.3\" font-family=\"Helvetica,sans-Serif\" font-size=\"14.00\" fill=\"#000000\">class = 1</text>\n</g>\n<!-- 8&#45;&gt;10 -->\n<g id=\"edge10\" class=\"edge\">\n<title>8&#45;&gt;10</title>\n<path fill=\"none\" stroke=\"#000000\" d=\"M475.4975,-579.8796C476.3938,-569.2134 477.3612,-557.7021 478.2688,-546.9015\"/>\n<polygon fill=\"#000000\" stroke=\"#000000\" points=\"481.7666,-547.0729 479.1164,-536.8149 474.7912,-546.4867 481.7666,-547.0729\"/>\n</g>\n<!-- 12 -->\n<g id=\"node13\" class=\"node\">\n<title>12</title>\n<path fill=\"#74baed\" stroke=\"#000000\" d=\"M711,-544C711,-544 563,-544 563,-544 557,-544 551,-538 551,-532 551,-532 551,-473 551,-473 551,-467 557,-461 563,-461 563,-461 711,-461 711,-461 717,-461 723,-467 723,-473 723,-473 723,-532 723,-532 723,-538 717,-544 711,-544\"/>\n<text text-anchor=\"start\" x=\"559\" y=\"-528.8\" font-family=\"Helvetica,sans-Serif\" font-size=\"14.00\" fill=\"#000000\">Marginal Adhesion ≤ 2.0</text>\n<text text-anchor=\"start\" x=\"586\" y=\"-513.8\" font-family=\"Helvetica,sans-Serif\" font-size=\"14.00\" fill=\"#000000\">entropy = 0.779</text>\n<text text-anchor=\"start\" x=\"593\" y=\"-498.8\" font-family=\"Helvetica,sans-Serif\" font-size=\"14.00\" fill=\"#000000\">samples = 13</text>\n<text text-anchor=\"start\" x=\"591.5\" y=\"-483.8\" font-family=\"Helvetica,sans-Serif\" font-size=\"14.00\" fill=\"#000000\">value = [3, 10]</text>\n<text text-anchor=\"start\" x=\"608\" y=\"-468.8\" font-family=\"Helvetica,sans-Serif\" font-size=\"14.00\" fill=\"#000000\">class = 1</text>\n</g>\n<!-- 11&#45;&gt;12 -->\n<g id=\"edge12\" class=\"edge\">\n<title>11&#45;&gt;12</title>\n<path fill=\"none\" stroke=\"#000000\" d=\"M662.3597,-579.8796C659.6147,-571.5037 656.6988,-562.6067 653.8591,-553.942\"/>\n<polygon fill=\"#000000\" stroke=\"#000000\" points=\"657.1389,-552.7107 650.6985,-544.2981 650.487,-554.8908 657.1389,-552.7107\"/>\n</g>\n<!-- 21 -->\n<g id=\"node22\" class=\"node\">\n<title>21</title>\n<path fill=\"#399de5\" stroke=\"#000000\" d=\"M836.5,-536.5C836.5,-536.5 753.5,-536.5 753.5,-536.5 747.5,-536.5 741.5,-530.5 741.5,-524.5 741.5,-524.5 741.5,-480.5 741.5,-480.5 741.5,-474.5 747.5,-468.5 753.5,-468.5 753.5,-468.5 836.5,-468.5 836.5,-468.5 842.5,-468.5 848.5,-474.5 848.5,-480.5 848.5,-480.5 848.5,-524.5 848.5,-524.5 848.5,-530.5 842.5,-536.5 836.5,-536.5\"/>\n<text text-anchor=\"start\" x=\"752.5\" y=\"-521.3\" font-family=\"Helvetica,sans-Serif\" font-size=\"14.00\" fill=\"#000000\">entropy = 0.0</text>\n<text text-anchor=\"start\" x=\"751\" y=\"-506.3\" font-family=\"Helvetica,sans-Serif\" font-size=\"14.00\" fill=\"#000000\">samples = 12</text>\n<text text-anchor=\"start\" x=\"749.5\" y=\"-491.3\" font-family=\"Helvetica,sans-Serif\" font-size=\"14.00\" fill=\"#000000\">value = [0, 12]</text>\n<text text-anchor=\"start\" x=\"766\" y=\"-476.3\" font-family=\"Helvetica,sans-Serif\" font-size=\"14.00\" fill=\"#000000\">class = 1</text>\n</g>\n<!-- 11&#45;&gt;21 -->\n<g id=\"edge21\" class=\"edge\">\n<title>11&#45;&gt;21</title>\n<path fill=\"none\" stroke=\"#000000\" d=\"M717.6204,-579.8796C729.2763,-568.2237 741.9413,-555.5587 753.5852,-543.9148\"/>\n<polygon fill=\"#000000\" stroke=\"#000000\" points=\"756.0889,-546.3609 760.6851,-536.8149 751.1391,-541.4111 756.0889,-546.3609\"/>\n</g>\n<!-- 13 -->\n<g id=\"node14\" class=\"node\">\n<title>13</title>\n<path fill=\"#399de5\" stroke=\"#000000\" d=\"M504.5,-417.5C504.5,-417.5 427.5,-417.5 427.5,-417.5 421.5,-417.5 415.5,-411.5 415.5,-405.5 415.5,-405.5 415.5,-361.5 415.5,-361.5 415.5,-355.5 421.5,-349.5 427.5,-349.5 427.5,-349.5 504.5,-349.5 504.5,-349.5 510.5,-349.5 516.5,-355.5 516.5,-361.5 516.5,-361.5 516.5,-405.5 516.5,-405.5 516.5,-411.5 510.5,-417.5 504.5,-417.5\"/>\n<text text-anchor=\"start\" x=\"423.5\" y=\"-402.3\" font-family=\"Helvetica,sans-Serif\" font-size=\"14.00\" fill=\"#000000\">entropy = 0.0</text>\n<text text-anchor=\"start\" x=\"426.5\" y=\"-387.3\" font-family=\"Helvetica,sans-Serif\" font-size=\"14.00\" fill=\"#000000\">samples = 5</text>\n<text text-anchor=\"start\" x=\"424.5\" y=\"-372.3\" font-family=\"Helvetica,sans-Serif\" font-size=\"14.00\" fill=\"#000000\">value = [0, 5]</text>\n<text text-anchor=\"start\" x=\"437\" y=\"-357.3\" font-family=\"Helvetica,sans-Serif\" font-size=\"14.00\" fill=\"#000000\">class = 1</text>\n</g>\n<!-- 12&#45;&gt;13 -->\n<g id=\"edge13\" class=\"edge\">\n<title>12&#45;&gt;13</title>\n<path fill=\"none\" stroke=\"#000000\" d=\"M576.7813,-460.9565C560.0003,-449.3455 541.7746,-436.703 525,-425 524.2361,-424.4671 523.4668,-423.9301 522.6931,-423.3897\"/>\n<polygon fill=\"#000000\" stroke=\"#000000\" points=\"524.4766,-420.366 514.2761,-417.5021 520.4642,-426.102 524.4766,-420.366\"/>\n</g>\n<!-- 14 -->\n<g id=\"node15\" class=\"node\">\n<title>14</title>\n<path fill=\"#b0d8f5\" stroke=\"#000000\" d=\"M737.5,-425C737.5,-425 546.5,-425 546.5,-425 540.5,-425 534.5,-419 534.5,-413 534.5,-413 534.5,-354 534.5,-354 534.5,-348 540.5,-342 546.5,-342 546.5,-342 737.5,-342 737.5,-342 743.5,-342 749.5,-348 749.5,-354 749.5,-354 749.5,-413 749.5,-413 749.5,-419 743.5,-425 737.5,-425\"/>\n<text text-anchor=\"start\" x=\"542.5\" y=\"-409.8\" font-family=\"Helvetica,sans-Serif\" font-size=\"14.00\" fill=\"#000000\">Single Epithelial Cell Size ≤ 2.5</text>\n<text text-anchor=\"start\" x=\"591\" y=\"-394.8\" font-family=\"Helvetica,sans-Serif\" font-size=\"14.00\" fill=\"#000000\">entropy = 0.954</text>\n<text text-anchor=\"start\" x=\"602.5\" y=\"-379.8\" font-family=\"Helvetica,sans-Serif\" font-size=\"14.00\" fill=\"#000000\">samples = 8</text>\n<text text-anchor=\"start\" x=\"600.5\" y=\"-364.8\" font-family=\"Helvetica,sans-Serif\" font-size=\"14.00\" fill=\"#000000\">value = [3, 5]</text>\n<text text-anchor=\"start\" x=\"613\" y=\"-349.8\" font-family=\"Helvetica,sans-Serif\" font-size=\"14.00\" fill=\"#000000\">class = 1</text>\n</g>\n<!-- 12&#45;&gt;14 -->\n<g id=\"edge14\" class=\"edge\">\n<title>12&#45;&gt;14</title>\n<path fill=\"none\" stroke=\"#000000\" d=\"M638.7488,-460.8796C639.0931,-452.6838 639.4584,-443.9891 639.8151,-435.5013\"/>\n<polygon fill=\"#000000\" stroke=\"#000000\" points=\"643.3208,-435.4362 640.2438,-425.2981 636.327,-435.1423 643.3208,-435.4362\"/>\n</g>\n<!-- 15 -->\n<g id=\"node16\" class=\"node\">\n<title>15</title>\n<path fill=\"#399de5\" stroke=\"#000000\" d=\"M506.5,-298.5C506.5,-298.5 429.5,-298.5 429.5,-298.5 423.5,-298.5 417.5,-292.5 417.5,-286.5 417.5,-286.5 417.5,-242.5 417.5,-242.5 417.5,-236.5 423.5,-230.5 429.5,-230.5 429.5,-230.5 506.5,-230.5 506.5,-230.5 512.5,-230.5 518.5,-236.5 518.5,-242.5 518.5,-242.5 518.5,-286.5 518.5,-286.5 518.5,-292.5 512.5,-298.5 506.5,-298.5\"/>\n<text text-anchor=\"start\" x=\"425.5\" y=\"-283.3\" font-family=\"Helvetica,sans-Serif\" font-size=\"14.00\" fill=\"#000000\">entropy = 0.0</text>\n<text text-anchor=\"start\" x=\"428.5\" y=\"-268.3\" font-family=\"Helvetica,sans-Serif\" font-size=\"14.00\" fill=\"#000000\">samples = 2</text>\n<text text-anchor=\"start\" x=\"426.5\" y=\"-253.3\" font-family=\"Helvetica,sans-Serif\" font-size=\"14.00\" fill=\"#000000\">value = [0, 2]</text>\n<text text-anchor=\"start\" x=\"439\" y=\"-238.3\" font-family=\"Helvetica,sans-Serif\" font-size=\"14.00\" fill=\"#000000\">class = 1</text>\n</g>\n<!-- 14&#45;&gt;15 -->\n<g id=\"edge15\" class=\"edge\">\n<title>14&#45;&gt;15</title>\n<path fill=\"none\" stroke=\"#000000\" d=\"M579.7757,-341.8965C562.6275,-330.3414 544.0536,-317.7423 527,-306 526.2329,-305.4718 525.4605,-304.9392 524.6838,-304.403\"/>\n<polygon fill=\"#000000\" stroke=\"#000000\" points=\"526.4548,-301.3719 516.2425,-298.5507 522.4664,-307.1246 526.4548,-301.3719\"/>\n</g>\n<!-- 16 -->\n<g id=\"node17\" class=\"node\">\n<title>16</title>\n<path fill=\"#ffffff\" stroke=\"#000000\" d=\"M739.5,-306C739.5,-306 548.5,-306 548.5,-306 542.5,-306 536.5,-300 536.5,-294 536.5,-294 536.5,-235 536.5,-235 536.5,-229 542.5,-223 548.5,-223 548.5,-223 739.5,-223 739.5,-223 745.5,-223 751.5,-229 751.5,-235 751.5,-235 751.5,-294 751.5,-294 751.5,-300 745.5,-306 739.5,-306\"/>\n<text text-anchor=\"start\" x=\"544.5\" y=\"-290.8\" font-family=\"Helvetica,sans-Serif\" font-size=\"14.00\" fill=\"#000000\">Single Epithelial Cell Size ≤ 4.5</text>\n<text text-anchor=\"start\" x=\"601.5\" y=\"-275.8\" font-family=\"Helvetica,sans-Serif\" font-size=\"14.00\" fill=\"#000000\">entropy = 1.0</text>\n<text text-anchor=\"start\" x=\"604.5\" y=\"-260.8\" font-family=\"Helvetica,sans-Serif\" font-size=\"14.00\" fill=\"#000000\">samples = 6</text>\n<text text-anchor=\"start\" x=\"602.5\" y=\"-245.8\" font-family=\"Helvetica,sans-Serif\" font-size=\"14.00\" fill=\"#000000\">value = [3, 3]</text>\n<text text-anchor=\"start\" x=\"615\" y=\"-230.8\" font-family=\"Helvetica,sans-Serif\" font-size=\"14.00\" fill=\"#000000\">class = 0</text>\n</g>\n<!-- 14&#45;&gt;16 -->\n<g id=\"edge16\" class=\"edge\">\n<title>14&#45;&gt;16</title>\n<path fill=\"none\" stroke=\"#000000\" d=\"M642.6995,-341.8796C642.8372,-333.6838 642.9834,-324.9891 643.126,-316.5013\"/>\n<polygon fill=\"#000000\" stroke=\"#000000\" points=\"646.6289,-316.3555 643.2975,-306.2981 639.6299,-316.2378 646.6289,-316.3555\"/>\n</g>\n<!-- 17 -->\n<g id=\"node18\" class=\"node\">\n<title>17</title>\n<path fill=\"#eeab7b\" stroke=\"#000000\" d=\"M649.5,-187C649.5,-187 466.5,-187 466.5,-187 460.5,-187 454.5,-181 454.5,-175 454.5,-175 454.5,-116 454.5,-116 454.5,-110 460.5,-104 466.5,-104 466.5,-104 649.5,-104 649.5,-104 655.5,-104 661.5,-110 661.5,-116 661.5,-116 661.5,-175 661.5,-175 661.5,-181 655.5,-187 649.5,-187\"/>\n<text text-anchor=\"start\" x=\"462.5\" y=\"-171.8\" font-family=\"Helvetica,sans-Serif\" font-size=\"14.00\" fill=\"#000000\">Uniformity of Cell Shape ≤ 4.5</text>\n<text text-anchor=\"start\" x=\"507\" y=\"-156.8\" font-family=\"Helvetica,sans-Serif\" font-size=\"14.00\" fill=\"#000000\">entropy = 0.811</text>\n<text text-anchor=\"start\" x=\"518.5\" y=\"-141.8\" font-family=\"Helvetica,sans-Serif\" font-size=\"14.00\" fill=\"#000000\">samples = 4</text>\n<text text-anchor=\"start\" x=\"516.5\" y=\"-126.8\" font-family=\"Helvetica,sans-Serif\" font-size=\"14.00\" fill=\"#000000\">value = [3, 1]</text>\n<text text-anchor=\"start\" x=\"529\" y=\"-111.8\" font-family=\"Helvetica,sans-Serif\" font-size=\"14.00\" fill=\"#000000\">class = 0</text>\n</g>\n<!-- 16&#45;&gt;17 -->\n<g id=\"edge17\" class=\"edge\">\n<title>16&#45;&gt;17</title>\n<path fill=\"none\" stroke=\"#000000\" d=\"M613.9214,-222.8796C607.5428,-214.0534 600.746,-204.6485 594.1681,-195.5466\"/>\n<polygon fill=\"#000000\" stroke=\"#000000\" points=\"596.9012,-193.353 588.207,-187.2981 591.2277,-197.4532 596.9012,-193.353\"/>\n</g>\n<!-- 20 -->\n<g id=\"node21\" class=\"node\">\n<title>20</title>\n<path fill=\"#399de5\" stroke=\"#000000\" d=\"M768.5,-179.5C768.5,-179.5 691.5,-179.5 691.5,-179.5 685.5,-179.5 679.5,-173.5 679.5,-167.5 679.5,-167.5 679.5,-123.5 679.5,-123.5 679.5,-117.5 685.5,-111.5 691.5,-111.5 691.5,-111.5 768.5,-111.5 768.5,-111.5 774.5,-111.5 780.5,-117.5 780.5,-123.5 780.5,-123.5 780.5,-167.5 780.5,-167.5 780.5,-173.5 774.5,-179.5 768.5,-179.5\"/>\n<text text-anchor=\"start\" x=\"687.5\" y=\"-164.3\" font-family=\"Helvetica,sans-Serif\" font-size=\"14.00\" fill=\"#000000\">entropy = 0.0</text>\n<text text-anchor=\"start\" x=\"690.5\" y=\"-149.3\" font-family=\"Helvetica,sans-Serif\" font-size=\"14.00\" fill=\"#000000\">samples = 2</text>\n<text text-anchor=\"start\" x=\"688.5\" y=\"-134.3\" font-family=\"Helvetica,sans-Serif\" font-size=\"14.00\" fill=\"#000000\">value = [0, 2]</text>\n<text text-anchor=\"start\" x=\"701\" y=\"-119.3\" font-family=\"Helvetica,sans-Serif\" font-size=\"14.00\" fill=\"#000000\">class = 1</text>\n</g>\n<!-- 16&#45;&gt;20 -->\n<g id=\"edge20\" class=\"edge\">\n<title>16&#45;&gt;20</title>\n<path fill=\"none\" stroke=\"#000000\" d=\"M674.0786,-222.8796C682.1843,-211.6636 690.9653,-199.5131 699.1143,-188.2372\"/>\n<polygon fill=\"#000000\" stroke=\"#000000\" points=\"702.1803,-189.9701 705.201,-179.8149 696.5068,-185.8698 702.1803,-189.9701\"/>\n</g>\n<!-- 18 -->\n<g id=\"node19\" class=\"node\">\n<title>18</title>\n<path fill=\"#e58139\" stroke=\"#000000\" d=\"M537.5,-68C537.5,-68 460.5,-68 460.5,-68 454.5,-68 448.5,-62 448.5,-56 448.5,-56 448.5,-12 448.5,-12 448.5,-6 454.5,0 460.5,0 460.5,0 537.5,0 537.5,0 543.5,0 549.5,-6 549.5,-12 549.5,-12 549.5,-56 549.5,-56 549.5,-62 543.5,-68 537.5,-68\"/>\n<text text-anchor=\"start\" x=\"456.5\" y=\"-52.8\" font-family=\"Helvetica,sans-Serif\" font-size=\"14.00\" fill=\"#000000\">entropy = 0.0</text>\n<text text-anchor=\"start\" x=\"459.5\" y=\"-37.8\" font-family=\"Helvetica,sans-Serif\" font-size=\"14.00\" fill=\"#000000\">samples = 3</text>\n<text text-anchor=\"start\" x=\"457.5\" y=\"-22.8\" font-family=\"Helvetica,sans-Serif\" font-size=\"14.00\" fill=\"#000000\">value = [3, 0]</text>\n<text text-anchor=\"start\" x=\"470\" y=\"-7.8\" font-family=\"Helvetica,sans-Serif\" font-size=\"14.00\" fill=\"#000000\">class = 0</text>\n</g>\n<!-- 17&#45;&gt;18 -->\n<g id=\"edge18\" class=\"edge\">\n<title>17&#45;&gt;18</title>\n<path fill=\"none\" stroke=\"#000000\" d=\"M536.0306,-103.9815C531.4105,-95.2504 526.5264,-86.0202 521.874,-77.2281\"/>\n<polygon fill=\"#000000\" stroke=\"#000000\" points=\"524.9013,-75.4655 517.1306,-68.2637 518.7141,-78.7395 524.9013,-75.4655\"/>\n</g>\n<!-- 19 -->\n<g id=\"node20\" class=\"node\">\n<title>19</title>\n<path fill=\"#399de5\" stroke=\"#000000\" d=\"M656.5,-68C656.5,-68 579.5,-68 579.5,-68 573.5,-68 567.5,-62 567.5,-56 567.5,-56 567.5,-12 567.5,-12 567.5,-6 573.5,0 579.5,0 579.5,0 656.5,0 656.5,0 662.5,0 668.5,-6 668.5,-12 668.5,-12 668.5,-56 668.5,-56 668.5,-62 662.5,-68 656.5,-68\"/>\n<text text-anchor=\"start\" x=\"575.5\" y=\"-52.8\" font-family=\"Helvetica,sans-Serif\" font-size=\"14.00\" fill=\"#000000\">entropy = 0.0</text>\n<text text-anchor=\"start\" x=\"578.5\" y=\"-37.8\" font-family=\"Helvetica,sans-Serif\" font-size=\"14.00\" fill=\"#000000\">samples = 1</text>\n<text text-anchor=\"start\" x=\"576.5\" y=\"-22.8\" font-family=\"Helvetica,sans-Serif\" font-size=\"14.00\" fill=\"#000000\">value = [0, 1]</text>\n<text text-anchor=\"start\" x=\"589\" y=\"-7.8\" font-family=\"Helvetica,sans-Serif\" font-size=\"14.00\" fill=\"#000000\">class = 1</text>\n</g>\n<!-- 17&#45;&gt;19 -->\n<g id=\"edge19\" class=\"edge\">\n<title>17&#45;&gt;19</title>\n<path fill=\"none\" stroke=\"#000000\" d=\"M580.3418,-103.9815C585.0402,-95.2504 590.0071,-86.0202 594.7383,-77.2281\"/>\n<polygon fill=\"#000000\" stroke=\"#000000\" points=\"597.9056,-78.7282 599.5621,-68.2637 591.7414,-75.4111 597.9056,-78.7282\"/>\n</g>\n<!-- 23 -->\n<g id=\"node24\" class=\"node\">\n<title>23</title>\n<path fill=\"#5dafea\" stroke=\"#000000\" d=\"M1004.5,-782C1004.5,-782 901.5,-782 901.5,-782 895.5,-782 889.5,-776 889.5,-770 889.5,-770 889.5,-711 889.5,-711 889.5,-705 895.5,-699 901.5,-699 901.5,-699 1004.5,-699 1004.5,-699 1010.5,-699 1016.5,-705 1016.5,-711 1016.5,-711 1016.5,-770 1016.5,-770 1016.5,-776 1010.5,-782 1004.5,-782\"/>\n<text text-anchor=\"start\" x=\"897.5\" y=\"-766.8\" font-family=\"Helvetica,sans-Serif\" font-size=\"14.00\" fill=\"#000000\">Bare Nuclei ≤ 6.0</text>\n<text text-anchor=\"start\" x=\"902\" y=\"-751.8\" font-family=\"Helvetica,sans-Serif\" font-size=\"14.00\" fill=\"#000000\">entropy = 0.619</text>\n<text text-anchor=\"start\" x=\"909\" y=\"-736.8\" font-family=\"Helvetica,sans-Serif\" font-size=\"14.00\" fill=\"#000000\">samples = 26</text>\n<text text-anchor=\"start\" x=\"907.5\" y=\"-721.8\" font-family=\"Helvetica,sans-Serif\" font-size=\"14.00\" fill=\"#000000\">value = [4, 22]</text>\n<text text-anchor=\"start\" x=\"924\" y=\"-706.8\" font-family=\"Helvetica,sans-Serif\" font-size=\"14.00\" fill=\"#000000\">class = 1</text>\n</g>\n<!-- 22&#45;&gt;23 -->\n<g id=\"edge23\" class=\"edge\">\n<title>22&#45;&gt;23</title>\n<path fill=\"none\" stroke=\"#000000\" d=\"M953,-817.8796C953,-809.6838 953,-800.9891 953,-792.5013\"/>\n<polygon fill=\"#000000\" stroke=\"#000000\" points=\"956.5001,-792.298 953,-782.2981 949.5001,-792.2981 956.5001,-792.298\"/>\n</g>\n<!-- 32 -->\n<g id=\"node33\" class=\"node\">\n<title>32</title>\n<path fill=\"#399de5\" stroke=\"#000000\" d=\"M1139,-774.5C1139,-774.5 1047,-774.5 1047,-774.5 1041,-774.5 1035,-768.5 1035,-762.5 1035,-762.5 1035,-718.5 1035,-718.5 1035,-712.5 1041,-706.5 1047,-706.5 1047,-706.5 1139,-706.5 1139,-706.5 1145,-706.5 1151,-712.5 1151,-718.5 1151,-718.5 1151,-762.5 1151,-762.5 1151,-768.5 1145,-774.5 1139,-774.5\"/>\n<text text-anchor=\"start\" x=\"1050.5\" y=\"-759.3\" font-family=\"Helvetica,sans-Serif\" font-size=\"14.00\" fill=\"#000000\">entropy = 0.0</text>\n<text text-anchor=\"start\" x=\"1045\" y=\"-744.3\" font-family=\"Helvetica,sans-Serif\" font-size=\"14.00\" fill=\"#000000\">samples = 117</text>\n<text text-anchor=\"start\" x=\"1043\" y=\"-729.3\" font-family=\"Helvetica,sans-Serif\" font-size=\"14.00\" fill=\"#000000\">value = [0, 117]</text>\n<text text-anchor=\"start\" x=\"1064\" y=\"-714.3\" font-family=\"Helvetica,sans-Serif\" font-size=\"14.00\" fill=\"#000000\">class = 1</text>\n</g>\n<!-- 22&#45;&gt;32 -->\n<g id=\"edge32\" class=\"edge\">\n<title>22&#45;&gt;32</title>\n<path fill=\"none\" stroke=\"#000000\" d=\"M1001.9652,-817.8796C1015.8073,-806.1138 1030.8592,-793.3197 1044.6641,-781.5855\"/>\n<polygon fill=\"#000000\" stroke=\"#000000\" points=\"1047.2769,-783.9582 1052.6295,-774.8149 1042.7433,-778.6247 1047.2769,-783.9582\"/>\n</g>\n<!-- 24 -->\n<g id=\"node25\" class=\"node\">\n<title>24</title>\n<path fill=\"#bddef6\" stroke=\"#000000\" d=\"M1004.5,-663C1004.5,-663 901.5,-663 901.5,-663 895.5,-663 889.5,-657 889.5,-651 889.5,-651 889.5,-592 889.5,-592 889.5,-586 895.5,-580 901.5,-580 901.5,-580 1004.5,-580 1004.5,-580 1010.5,-580 1016.5,-586 1016.5,-592 1016.5,-592 1016.5,-651 1016.5,-651 1016.5,-657 1010.5,-663 1004.5,-663\"/>\n<text text-anchor=\"start\" x=\"897.5\" y=\"-647.8\" font-family=\"Helvetica,sans-Serif\" font-size=\"14.00\" fill=\"#000000\">Bare Nuclei ≤ 4.5</text>\n<text text-anchor=\"start\" x=\"902\" y=\"-632.8\" font-family=\"Helvetica,sans-Serif\" font-size=\"14.00\" fill=\"#000000\">entropy = 0.971</text>\n<text text-anchor=\"start\" x=\"909\" y=\"-617.8\" font-family=\"Helvetica,sans-Serif\" font-size=\"14.00\" fill=\"#000000\">samples = 10</text>\n<text text-anchor=\"start\" x=\"911.5\" y=\"-602.8\" font-family=\"Helvetica,sans-Serif\" font-size=\"14.00\" fill=\"#000000\">value = [4, 6]</text>\n<text text-anchor=\"start\" x=\"924\" y=\"-587.8\" font-family=\"Helvetica,sans-Serif\" font-size=\"14.00\" fill=\"#000000\">class = 1</text>\n</g>\n<!-- 23&#45;&gt;24 -->\n<g id=\"edge24\" class=\"edge\">\n<title>23&#45;&gt;24</title>\n<path fill=\"none\" stroke=\"#000000\" d=\"M953,-698.8796C953,-690.6838 953,-681.9891 953,-673.5013\"/>\n<polygon fill=\"#000000\" stroke=\"#000000\" points=\"956.5001,-673.298 953,-663.2981 949.5001,-673.2981 956.5001,-673.298\"/>\n</g>\n<!-- 31 -->\n<g id=\"node32\" class=\"node\">\n<title>31</title>\n<path fill=\"#399de5\" stroke=\"#000000\" d=\"M1129.5,-655.5C1129.5,-655.5 1046.5,-655.5 1046.5,-655.5 1040.5,-655.5 1034.5,-649.5 1034.5,-643.5 1034.5,-643.5 1034.5,-599.5 1034.5,-599.5 1034.5,-593.5 1040.5,-587.5 1046.5,-587.5 1046.5,-587.5 1129.5,-587.5 1129.5,-587.5 1135.5,-587.5 1141.5,-593.5 1141.5,-599.5 1141.5,-599.5 1141.5,-643.5 1141.5,-643.5 1141.5,-649.5 1135.5,-655.5 1129.5,-655.5\"/>\n<text text-anchor=\"start\" x=\"1045.5\" y=\"-640.3\" font-family=\"Helvetica,sans-Serif\" font-size=\"14.00\" fill=\"#000000\">entropy = 0.0</text>\n<text text-anchor=\"start\" x=\"1044\" y=\"-625.3\" font-family=\"Helvetica,sans-Serif\" font-size=\"14.00\" fill=\"#000000\">samples = 16</text>\n<text text-anchor=\"start\" x=\"1042.5\" y=\"-610.3\" font-family=\"Helvetica,sans-Serif\" font-size=\"14.00\" fill=\"#000000\">value = [0, 16]</text>\n<text text-anchor=\"start\" x=\"1059\" y=\"-595.3\" font-family=\"Helvetica,sans-Serif\" font-size=\"14.00\" fill=\"#000000\">class = 1</text>\n</g>\n<!-- 23&#45;&gt;31 -->\n<g id=\"edge31\" class=\"edge\">\n<title>23&#45;&gt;31</title>\n<path fill=\"none\" stroke=\"#000000\" d=\"M1000.2164,-698.8796C1013.5642,-687.1138 1028.0785,-674.3197 1041.3904,-662.5855\"/>\n<polygon fill=\"#000000\" stroke=\"#000000\" points=\"1043.884,-665.0531 1049.0713,-655.8149 1039.2552,-659.8019 1043.884,-665.0531\"/>\n</g>\n<!-- 25 -->\n<g id=\"node26\" class=\"node\">\n<title>25</title>\n<path fill=\"#7bbeee\" stroke=\"#000000\" d=\"M1027,-544C1027,-544 879,-544 879,-544 873,-544 867,-538 867,-532 867,-532 867,-473 867,-473 867,-467 873,-461 879,-461 879,-461 1027,-461 1027,-461 1033,-461 1039,-467 1039,-473 1039,-473 1039,-532 1039,-532 1039,-538 1033,-544 1027,-544\"/>\n<text text-anchor=\"start\" x=\"875\" y=\"-528.8\" font-family=\"Helvetica,sans-Serif\" font-size=\"14.00\" fill=\"#000000\">Marginal Adhesion ≤ 3.5</text>\n<text text-anchor=\"start\" x=\"902\" y=\"-513.8\" font-family=\"Helvetica,sans-Serif\" font-size=\"14.00\" fill=\"#000000\">entropy = 0.811</text>\n<text text-anchor=\"start\" x=\"913.5\" y=\"-498.8\" font-family=\"Helvetica,sans-Serif\" font-size=\"14.00\" fill=\"#000000\">samples = 8</text>\n<text text-anchor=\"start\" x=\"911.5\" y=\"-483.8\" font-family=\"Helvetica,sans-Serif\" font-size=\"14.00\" fill=\"#000000\">value = [2, 6]</text>\n<text text-anchor=\"start\" x=\"924\" y=\"-468.8\" font-family=\"Helvetica,sans-Serif\" font-size=\"14.00\" fill=\"#000000\">class = 1</text>\n</g>\n<!-- 24&#45;&gt;25 -->\n<g id=\"edge25\" class=\"edge\">\n<title>24&#45;&gt;25</title>\n<path fill=\"none\" stroke=\"#000000\" d=\"M953,-579.8796C953,-571.6838 953,-562.9891 953,-554.5013\"/>\n<polygon fill=\"#000000\" stroke=\"#000000\" points=\"956.5001,-554.298 953,-544.2981 949.5001,-554.2981 956.5001,-554.298\"/>\n</g>\n<!-- 30 -->\n<g id=\"node31\" class=\"node\">\n<title>30</title>\n<path fill=\"#e58139\" stroke=\"#000000\" d=\"M1146.5,-536.5C1146.5,-536.5 1069.5,-536.5 1069.5,-536.5 1063.5,-536.5 1057.5,-530.5 1057.5,-524.5 1057.5,-524.5 1057.5,-480.5 1057.5,-480.5 1057.5,-474.5 1063.5,-468.5 1069.5,-468.5 1069.5,-468.5 1146.5,-468.5 1146.5,-468.5 1152.5,-468.5 1158.5,-474.5 1158.5,-480.5 1158.5,-480.5 1158.5,-524.5 1158.5,-524.5 1158.5,-530.5 1152.5,-536.5 1146.5,-536.5\"/>\n<text text-anchor=\"start\" x=\"1065.5\" y=\"-521.3\" font-family=\"Helvetica,sans-Serif\" font-size=\"14.00\" fill=\"#000000\">entropy = 0.0</text>\n<text text-anchor=\"start\" x=\"1068.5\" y=\"-506.3\" font-family=\"Helvetica,sans-Serif\" font-size=\"14.00\" fill=\"#000000\">samples = 2</text>\n<text text-anchor=\"start\" x=\"1066.5\" y=\"-491.3\" font-family=\"Helvetica,sans-Serif\" font-size=\"14.00\" fill=\"#000000\">value = [2, 0]</text>\n<text text-anchor=\"start\" x=\"1079\" y=\"-476.3\" font-family=\"Helvetica,sans-Serif\" font-size=\"14.00\" fill=\"#000000\">class = 0</text>\n</g>\n<!-- 24&#45;&gt;30 -->\n<g id=\"edge30\" class=\"edge\">\n<title>24&#45;&gt;30</title>\n<path fill=\"none\" stroke=\"#000000\" d=\"M1007.2115,-579.8796C1022.8231,-567.8938 1039.8247,-554.841 1055.3408,-542.9287\"/>\n<polygon fill=\"#000000\" stroke=\"#000000\" points=\"1057.5035,-545.6808 1063.3041,-536.8149 1053.2407,-540.1285 1057.5035,-545.6808\"/>\n</g>\n<!-- 26 -->\n<g id=\"node27\" class=\"node\">\n<title>26</title>\n<path fill=\"#ffffff\" stroke=\"#000000\" d=\"M930,-425C930,-425 852,-425 852,-425 846,-425 840,-419 840,-413 840,-413 840,-354 840,-354 840,-348 846,-342 852,-342 852,-342 930,-342 930,-342 936,-342 942,-348 942,-354 942,-354 942,-413 942,-413 942,-419 936,-425 930,-425\"/>\n<text text-anchor=\"start\" x=\"848\" y=\"-409.8\" font-family=\"Helvetica,sans-Serif\" font-size=\"14.00\" fill=\"#000000\">Mitoses ≤ 1.5</text>\n<text text-anchor=\"start\" x=\"848.5\" y=\"-394.8\" font-family=\"Helvetica,sans-Serif\" font-size=\"14.00\" fill=\"#000000\">entropy = 1.0</text>\n<text text-anchor=\"start\" x=\"851.5\" y=\"-379.8\" font-family=\"Helvetica,sans-Serif\" font-size=\"14.00\" fill=\"#000000\">samples = 4</text>\n<text text-anchor=\"start\" x=\"849.5\" y=\"-364.8\" font-family=\"Helvetica,sans-Serif\" font-size=\"14.00\" fill=\"#000000\">value = [2, 2]</text>\n<text text-anchor=\"start\" x=\"862\" y=\"-349.8\" font-family=\"Helvetica,sans-Serif\" font-size=\"14.00\" fill=\"#000000\">class = 0</text>\n</g>\n<!-- 25&#45;&gt;26 -->\n<g id=\"edge26\" class=\"edge\">\n<title>25&#45;&gt;26</title>\n<path fill=\"none\" stroke=\"#000000\" d=\"M931.3154,-460.8796C926.8577,-452.3236 922.1166,-443.2238 917.5106,-434.3833\"/>\n<polygon fill=\"#000000\" stroke=\"#000000\" points=\"920.5017,-432.5494 912.7771,-425.2981 914.2938,-435.7838 920.5017,-432.5494\"/>\n</g>\n<!-- 29 -->\n<g id=\"node30\" class=\"node\">\n<title>29</title>\n<path fill=\"#399de5\" stroke=\"#000000\" d=\"M1049.5,-417.5C1049.5,-417.5 972.5,-417.5 972.5,-417.5 966.5,-417.5 960.5,-411.5 960.5,-405.5 960.5,-405.5 960.5,-361.5 960.5,-361.5 960.5,-355.5 966.5,-349.5 972.5,-349.5 972.5,-349.5 1049.5,-349.5 1049.5,-349.5 1055.5,-349.5 1061.5,-355.5 1061.5,-361.5 1061.5,-361.5 1061.5,-405.5 1061.5,-405.5 1061.5,-411.5 1055.5,-417.5 1049.5,-417.5\"/>\n<text text-anchor=\"start\" x=\"968.5\" y=\"-402.3\" font-family=\"Helvetica,sans-Serif\" font-size=\"14.00\" fill=\"#000000\">entropy = 0.0</text>\n<text text-anchor=\"start\" x=\"971.5\" y=\"-387.3\" font-family=\"Helvetica,sans-Serif\" font-size=\"14.00\" fill=\"#000000\">samples = 4</text>\n<text text-anchor=\"start\" x=\"969.5\" y=\"-372.3\" font-family=\"Helvetica,sans-Serif\" font-size=\"14.00\" fill=\"#000000\">value = [0, 4]</text>\n<text text-anchor=\"start\" x=\"982\" y=\"-357.3\" font-family=\"Helvetica,sans-Serif\" font-size=\"14.00\" fill=\"#000000\">class = 1</text>\n</g>\n<!-- 25&#45;&gt;29 -->\n<g id=\"edge29\" class=\"edge\">\n<title>25&#45;&gt;29</title>\n<path fill=\"none\" stroke=\"#000000\" d=\"M973.2856,-460.8796C978.645,-449.8835 984.4422,-437.9893 989.8463,-426.9015\"/>\n<polygon fill=\"#000000\" stroke=\"#000000\" points=\"993.04,-428.3375 994.2751,-417.8149 986.7476,-425.2706 993.04,-428.3375\"/>\n</g>\n<!-- 27 -->\n<g id=\"node28\" class=\"node\">\n<title>27</title>\n<path fill=\"#e58139\" stroke=\"#000000\" d=\"M868.5,-298.5C868.5,-298.5 791.5,-298.5 791.5,-298.5 785.5,-298.5 779.5,-292.5 779.5,-286.5 779.5,-286.5 779.5,-242.5 779.5,-242.5 779.5,-236.5 785.5,-230.5 791.5,-230.5 791.5,-230.5 868.5,-230.5 868.5,-230.5 874.5,-230.5 880.5,-236.5 880.5,-242.5 880.5,-242.5 880.5,-286.5 880.5,-286.5 880.5,-292.5 874.5,-298.5 868.5,-298.5\"/>\n<text text-anchor=\"start\" x=\"787.5\" y=\"-283.3\" font-family=\"Helvetica,sans-Serif\" font-size=\"14.00\" fill=\"#000000\">entropy = 0.0</text>\n<text text-anchor=\"start\" x=\"790.5\" y=\"-268.3\" font-family=\"Helvetica,sans-Serif\" font-size=\"14.00\" fill=\"#000000\">samples = 2</text>\n<text text-anchor=\"start\" x=\"788.5\" y=\"-253.3\" font-family=\"Helvetica,sans-Serif\" font-size=\"14.00\" fill=\"#000000\">value = [2, 0]</text>\n<text text-anchor=\"start\" x=\"801\" y=\"-238.3\" font-family=\"Helvetica,sans-Serif\" font-size=\"14.00\" fill=\"#000000\">class = 0</text>\n</g>\n<!-- 26&#45;&gt;27 -->\n<g id=\"edge27\" class=\"edge\">\n<title>26&#45;&gt;27</title>\n<path fill=\"none\" stroke=\"#000000\" d=\"M869.6652,-341.8796C864.0285,-330.8835 857.9315,-318.9893 852.2478,-307.9015\"/>\n<polygon fill=\"#000000\" stroke=\"#000000\" points=\"855.2663,-306.1173 847.59,-298.8149 849.0371,-309.3105 855.2663,-306.1173\"/>\n</g>\n<!-- 28 -->\n<g id=\"node29\" class=\"node\">\n<title>28</title>\n<path fill=\"#399de5\" stroke=\"#000000\" d=\"M987.5,-298.5C987.5,-298.5 910.5,-298.5 910.5,-298.5 904.5,-298.5 898.5,-292.5 898.5,-286.5 898.5,-286.5 898.5,-242.5 898.5,-242.5 898.5,-236.5 904.5,-230.5 910.5,-230.5 910.5,-230.5 987.5,-230.5 987.5,-230.5 993.5,-230.5 999.5,-236.5 999.5,-242.5 999.5,-242.5 999.5,-286.5 999.5,-286.5 999.5,-292.5 993.5,-298.5 987.5,-298.5\"/>\n<text text-anchor=\"start\" x=\"906.5\" y=\"-283.3\" font-family=\"Helvetica,sans-Serif\" font-size=\"14.00\" fill=\"#000000\">entropy = 0.0</text>\n<text text-anchor=\"start\" x=\"909.5\" y=\"-268.3\" font-family=\"Helvetica,sans-Serif\" font-size=\"14.00\" fill=\"#000000\">samples = 2</text>\n<text text-anchor=\"start\" x=\"907.5\" y=\"-253.3\" font-family=\"Helvetica,sans-Serif\" font-size=\"14.00\" fill=\"#000000\">value = [0, 2]</text>\n<text text-anchor=\"start\" x=\"920\" y=\"-238.3\" font-family=\"Helvetica,sans-Serif\" font-size=\"14.00\" fill=\"#000000\">class = 1</text>\n</g>\n<!-- 26&#45;&gt;28 -->\n<g id=\"edge28\" class=\"edge\">\n<title>26&#45;&gt;28</title>\n<path fill=\"none\" stroke=\"#000000\" d=\"M911.2856,-341.8796C916.645,-330.8835 922.4422,-318.9893 927.8463,-307.9015\"/>\n<polygon fill=\"#000000\" stroke=\"#000000\" points=\"931.04,-309.3375 932.2751,-298.8149 924.7476,-306.2706 931.04,-309.3375\"/>\n</g>\n</g>\n</svg>\n"
          },
          "metadata": {},
          "execution_count": 36
        }
      ]
    },
    {
      "cell_type": "code",
      "source": [
        "# import the metrics class\n",
        "from sklearn import metrics\n",
        "cnf_matrix_DT = metrics.confusion_matrix(Y_test, Y_pred_DT)\n",
        "cnf_matrix_DT"
      ],
      "metadata": {
        "colab": {
          "base_uri": "https://localhost:8080/"
        },
        "id": "OzYET6XrOLc0",
        "outputId": "8f5f4830-b1f0-40e0-dab2-7a69025d0f85"
      },
      "execution_count": null,
      "outputs": [
        {
          "output_type": "execute_result",
          "data": {
            "text/plain": [
              "array([[58,  6],\n",
              "       [ 3, 68]])"
            ]
          },
          "metadata": {},
          "execution_count": 37
        }
      ]
    },
    {
      "cell_type": "code",
      "source": [
        "class_names=[0,1] # name  of classes\n",
        "fig, ax = plt.subplots()\n",
        "tick_marks = np.arange(len(class_names))\n",
        "plt.xticks(tick_marks, class_names)\n",
        "plt.yticks(tick_marks, class_names)\n",
        "# create heatmap\n",
        "sns.heatmap(pd.DataFrame(cnf_matrix_DT), annot=True, cmap=\"YlGnBu\" ,fmt='g')\n",
        "ax.xaxis.set_label_position(\"top\")\n",
        "plt.tight_layout()\n",
        "plt.title('Confusion matrix', y=1.1)\n",
        "plt.ylabel('Actual label')\n",
        "plt.xlabel('Predicted label')"
      ],
      "metadata": {
        "id": "oErxOnJznKMK",
        "colab": {
          "base_uri": "https://localhost:8080/",
          "height": 343
        },
        "outputId": "7da2fd02-b223-4673-a634-6bc2cbba320a"
      },
      "execution_count": null,
      "outputs": [
        {
          "output_type": "execute_result",
          "data": {
            "text/plain": [
              "Text(0.5, 257.44, 'Predicted label')"
            ]
          },
          "metadata": {},
          "execution_count": 38
        },
        {
          "output_type": "display_data",
          "data": {
            "text/plain": [
              "<Figure size 432x288 with 2 Axes>"
            ],
            "image/png": "[encoded data removed]"
          },
          "metadata": {
            "needs_background": "light"
          }
        }
      ]
    },
    {
      "cell_type": "code",
      "source": [
        "accuracy = metrics.accuracy_score(Y_test, Y_pred_DT)\n",
        "precision = metrics.precision_score(Y_test, Y_pred_DT)\n",
        "recall = metrics.recall_score(Y_test, Y_pred_DT)\n",
        "F1 = 2 * (precision * recall) / (precision + recall)"
      ],
      "metadata": {
        "id": "E0KimeqyOVFh"
      },
      "execution_count": null,
      "outputs": []
    },
    {
      "cell_type": "code",
      "source": [
        "print(\"Accuracy : \",accuracy)\n",
        "print(\"Precision : \",precision)\n",
        "print(\"Recall : \",recall)\n",
        "print(\"F-score : \",F1)"
      ],
      "metadata": {
        "colab": {
          "base_uri": "https://localhost:8080/"
        },
        "id": "tK-IgZ64OdUb",
        "outputId": "3fe54eff-b086-4f74-8cce-9e0cd9c78a98"
      },
      "execution_count": null,
      "outputs": [
        {
          "output_type": "stream",
          "name": "stdout",
          "text": [
            "Accuracy :  0.9333333333333333\n",
            "Precision :  0.918918918918919\n",
            "Recall :  0.9577464788732394\n",
            "F-score :  0.9379310344827587\n"
          ]
        }
      ]
    },
    {
      "cell_type": "code",
      "source": [
        ""
      ],
      "metadata": {
        "id": "u3rlwXg4OU4-"
      },
      "execution_count": null,
      "outputs": []
    },
    {
      "cell_type": "code",
      "source": [
        ""
      ],
      "metadata": {
        "id": "rCCLNXO367BD"
      },
      "execution_count": null,
      "outputs": []
    },
    {
      "cell_type": "markdown",
      "source": [
        "3. Naive Bayes"
      ],
      "metadata": {
        "id": "7tHZlGoHnKtc"
      }
    },
    {
      "cell_type": "code",
      "source": [
        "#Using GaussianNB method of naïve_bayes class to use Naïve Bayes Algorithm\n",
        "from sklearn.naive_bayes import GaussianNB\n",
        "\n",
        "GaussNB = GaussianNB()\n",
        "\n",
        "# fit the model with data\n",
        "GaussNB.fit(X_train,Y_train)\n",
        "\n",
        "Y_pred_NB = GaussNB.predict(X_test)"
      ],
      "metadata": {
        "id": "W7ELZMDHAeLc"
      },
      "execution_count": null,
      "outputs": []
    },
    {
      "cell_type": "code",
      "source": [
        "# import the metrics class\n",
        "from sklearn import metrics\n",
        "cnf_matrix_NB = metrics.confusion_matrix(Y_test, Y_pred_NB)\n",
        "cnf_matrix_NB"
      ],
      "metadata": {
        "colab": {
          "base_uri": "https://localhost:8080/"
        },
        "id": "GQALeSkpDVFu",
        "outputId": "ccfe89ec-8678-4e1c-a70c-6d620bdd5978"
      },
      "execution_count": null,
      "outputs": [
        {
          "output_type": "execute_result",
          "data": {
            "text/plain": [
              "array([[58,  6],\n",
              "       [ 4, 67]])"
            ]
          },
          "metadata": {},
          "execution_count": 27
        }
      ]
    },
    {
      "cell_type": "code",
      "source": [
        "class_names=[0,1] # name  of classes\n",
        "fig, ax = plt.subplots()\n",
        "tick_marks = np.arange(len(class_names))\n",
        "plt.xticks(tick_marks, class_names)\n",
        "plt.yticks(tick_marks, class_names)\n",
        "# create heatmap\n",
        "sns.heatmap(pd.DataFrame(cnf_matrix_NB), annot=True, cmap=\"YlGnBu\" ,fmt='g')\n",
        "ax.xaxis.set_label_position(\"top\")\n",
        "plt.tight_layout()\n",
        "plt.title('Confusion matrix', y=1.1)\n",
        "plt.ylabel('Actual label')\n",
        "plt.xlabel('Predicted label')"
      ],
      "metadata": {
        "colab": {
          "base_uri": "https://localhost:8080/",
          "height": 343
        },
        "id": "3hbcDnfRDcsS",
        "outputId": "19cf153c-d78a-419e-d91a-7e05344286e4"
      },
      "execution_count": null,
      "outputs": [
        {
          "output_type": "execute_result",
          "data": {
            "text/plain": [
              "Text(0.5, 257.44, 'Predicted label')"
            ]
          },
          "metadata": {},
          "execution_count": 28
        },
        {
          "output_type": "display_data",
          "data": {
            "text/plain": [
              "<Figure size 432x288 with 2 Axes>"
            ],
            "image/png": "[encoded data removed]"
          },
          "metadata": {
            "needs_background": "light"
          }
        }
      ]
    },
    {
      "cell_type": "code",
      "source": [
        "accuracy = metrics.accuracy_score(Y_test, Y_pred_NB)\n",
        "precision = metrics.precision_score(Y_test, Y_pred_NB)\n",
        "recall = metrics.recall_score(Y_test, Y_pred_NB)\n",
        "F1 = 2 * (precision * recall) / (precision + recall)"
      ],
      "metadata": {
        "id": "Pk9uESlSDpIW"
      },
      "execution_count": null,
      "outputs": []
    },
    {
      "cell_type": "code",
      "source": [
        "print(\"Accuracy : \",accuracy)\n",
        "print(\"Precision : \",precision)\n",
        "print(\"Recall : \",recall)\n",
        "print(\"F-score : \",F1)"
      ],
      "metadata": {
        "colab": {
          "base_uri": "https://localhost:8080/"
        },
        "id": "tKwboytsDvyC",
        "outputId": "d926d04d-1bfe-4033-f133-61c9d5852bdb"
      },
      "execution_count": null,
      "outputs": [
        {
          "output_type": "stream",
          "name": "stdout",
          "text": [
            "Accuracy :  0.9259259259259259\n",
            "Precision :  0.9178082191780822\n",
            "Recall :  0.9436619718309859\n",
            "F-score :  0.9305555555555556\n"
          ]
        }
      ]
    },
    {
      "cell_type": "code",
      "source": [
        ""
      ],
      "metadata": {
        "id": "6NHWlTq7nOWK"
      },
      "execution_count": null,
      "outputs": []
    },
    {
      "cell_type": "code",
      "source": [
        ""
      ],
      "metadata": {
        "id": "vdylEQgp67iT"
      },
      "execution_count": null,
      "outputs": []
    },
    {
      "cell_type": "markdown",
      "source": [
        "4. K-nearest neighbor"
      ],
      "metadata": {
        "id": "PfqJK4zbnOtO"
      }
    },
    {
      "cell_type": "code",
      "source": [
        "from sklearn.neighbors import KNeighborsClassifier\n",
        "\n",
        "KNN = KNeighborsClassifier(n_neighbors = 5)\n",
        "\n",
        "# fit the model with data\n",
        "KNN.fit(X_train,Y_train)\n",
        "\n",
        "Y_pred_KNN = KNN.predict(X_test)"
      ],
      "metadata": {
        "id": "DYjp76Sq6B1T"
      },
      "execution_count": null,
      "outputs": []
    },
    {
      "cell_type": "code",
      "source": [
        "# import the metrics class\n",
        "from sklearn import metrics\n",
        "cnf_matrix_KNN = metrics.confusion_matrix(Y_test, Y_pred_KNN)\n",
        "cnf_matrix_KNN"
      ],
      "metadata": {
        "colab": {
          "base_uri": "https://localhost:8080/"
        },
        "id": "6lpkD-q6pu3v",
        "outputId": "c626a95c-ad8d-45c5-f345-3d0ab2e71661"
      },
      "execution_count": null,
      "outputs": [
        {
          "output_type": "execute_result",
          "data": {
            "text/plain": [
              "array([[59,  5],\n",
              "       [ 2, 69]])"
            ]
          },
          "metadata": {},
          "execution_count": 32
        }
      ]
    },
    {
      "cell_type": "code",
      "source": [
        "class_names=[0,1] # name  of classes\n",
        "fig, ax = plt.subplots()\n",
        "tick_marks = np.arange(len(class_names))\n",
        "plt.xticks(tick_marks, class_names)\n",
        "plt.yticks(tick_marks, class_names)\n",
        "# create heatmap\n",
        "sns.heatmap(pd.DataFrame(cnf_matrix_KNN), annot=True, cmap=\"YlGnBu\" ,fmt='g')\n",
        "ax.xaxis.set_label_position(\"top\")\n",
        "plt.tight_layout()\n",
        "plt.title('Confusion matrix', y=1.1)\n",
        "plt.ylabel('Actual label')\n",
        "plt.xlabel('Predicted label')"
      ],
      "metadata": {
        "colab": {
          "base_uri": "https://localhost:8080/",
          "height": 343
        },
        "id": "-_aDfBydpwgP",
        "outputId": "0e1aa29a-c053-4556-ab67-98a04d77ecb1"
      },
      "execution_count": null,
      "outputs": [
        {
          "output_type": "execute_result",
          "data": {
            "text/plain": [
              "Text(0.5, 257.44, 'Predicted label')"
            ]
          },
          "metadata": {},
          "execution_count": 33
        },
        {
          "output_type": "display_data",
          "data": {
            "text/plain": [
              "<Figure size 432x288 with 2 Axes>"
            ],
            "image/png": "[encoded data removed]"
          },
          "metadata": {
            "needs_background": "light"
          }
        }
      ]
    },
    {
      "cell_type": "code",
      "source": [
        "accuracy = metrics.accuracy_score(Y_test, Y_pred_KNN)\n",
        "precision = metrics.precision_score(Y_test, Y_pred_KNN)\n",
        "recall = metrics.recall_score(Y_test, Y_pred_KNN)\n",
        "F1 = 2 * (precision * recall) / (precision + recall)"
      ],
      "metadata": {
        "id": "riC_yU_qpwT6"
      },
      "execution_count": null,
      "outputs": []
    },
    {
      "cell_type": "code",
      "source": [
        "print(\"Accuracy : \",accuracy)\n",
        "print(\"Precision : \",precision)\n",
        "print(\"Recall : \",recall)\n",
        "print(\"F-score : \",F1)"
      ],
      "metadata": {
        "colab": {
          "base_uri": "https://localhost:8080/"
        },
        "id": "vOrkJuTm53gW",
        "outputId": "a11cd39e-ac6c-42c3-9309-a1f45af0276d"
      },
      "execution_count": null,
      "outputs": [
        {
          "output_type": "stream",
          "name": "stdout",
          "text": [
            "Accuracy :  0.9481481481481482\n",
            "Precision :  0.9324324324324325\n",
            "Recall :  0.971830985915493\n",
            "F-score :  0.9517241379310345\n"
          ]
        }
      ]
    },
    {
      "cell_type": "code",
      "source": [
        ""
      ],
      "metadata": {
        "id": "W0cxN5KSRHq-"
      },
      "execution_count": null,
      "outputs": []
    },
    {
      "cell_type": "code",
      "source": [
        ""
      ],
      "metadata": {
        "id": "nnvegwx6RHfS"
      },
      "execution_count": null,
      "outputs": []
    }
  ]
}